{
 "cells": [
  {
   "cell_type": "markdown",
   "id": "0b07d6f0",
   "metadata": {},
   "source": [
    "When Python executes a script and encounters a situation that it cannot cope with, it:\n",
    "\n",
    "- stops your program;\n",
    "- creates a special kind of data, called an exception. Of course, this exception is an object.\n",
    "\n",
    "Both of these activities are called raising an exception. We can say that Python always raises an exception (or that an exception has been raised) when it has no idea what do to with your code.\n",
    "\n"
   ]
  },
  {
   "cell_type": "code",
   "execution_count": 4,
   "id": "244e542d",
   "metadata": {},
   "outputs": [
    {
     "name": "stdout",
     "output_type": "stream",
     "text": [
      "You tried to do a nasty thing...\n",
      "(\"invalid literal for int() with base 10: 'a'\",)\n",
      "(\"No module named 'abcdefghijk'\",)\n",
      "abcdefghijk\n",
      "None\n"
     ]
    }
   ],
   "source": [
    "try:\n",
    "    print(int('a'))\n",
    "except ValueError:\n",
    "    print('You tried to do a nasty thing...')\n",
    "\n",
    "try:\n",
    "    print(int('a'))\n",
    "except ValueError as e_variable:\n",
    "    print(e_variable.args)\n",
    "\n",
    "try:\n",
    "    import abcdefghijk\n",
    "except ImportError as e:\n",
    "    # Some exception objects carry additional information about the exception itself.\n",
    "    print(e.args)\n",
    "    print(e.name)\n",
    "    print(e.path)"
   ]
  },
  {
   "cell_type": "code",
   "execution_count": 5,
   "id": "45e35d09",
   "metadata": {},
   "outputs": [
    {
     "name": "stdout",
     "output_type": "stream",
     "text": [
      "'utf-8' codec can't decode byte 0x80 in position 0: invalid start byte\n",
      "utf-8\n",
      "invalid start byte\n",
      "b'\\x80'\n",
      "0\n",
      "1\n"
     ]
    }
   ],
   "source": [
    "try:\n",
    "    b'\\x80'.decode(\"utf-8\")\n",
    "except UnicodeError as e: \n",
    "    # It is a subclass of ValueError\n",
    "    print(e)\n",
    "    print(e.encoding) # the name of the encoding that raised the error.\n",
    "    print(e.reason) # a string describing the specific codec error\n",
    "    print(e.object) # the object the codec was attempting to encode or decode\n",
    "    print(e.start) # the first index of invalid data in the object\n",
    "    print(e.end) # the index after the last invalid data in the object"
   ]
  },
  {
   "cell_type": "markdown",
   "id": "962774e9",
   "metadata": {},
   "source": [
    "**Exception chaining**\n",
    "\n",
    "This chaining concept introduces two attributes of exception instances:\n",
    "\n",
    "- the __context__ attribute, which is inherent for implicitly chained exceptions;\n",
    "- the __cause__ attribute, which is inherent for explicitly chained exceptions.\n",
    "\n",
    "Those attributes help the programmer to keep a reference to the original exception object in a handy and consistent way for later processing like logging, etc"
   ]
  },
  {
   "cell_type": "code",
   "execution_count": 8,
   "id": "dc29d956",
   "metadata": {},
   "outputs": [
    {
     "ename": "ZeroDivisionError",
     "evalue": "division by zero",
     "output_type": "error",
     "traceback": [
      "\u001b[31m---------------------------------------------------------------------------\u001b[39m",
      "\u001b[31mIndexError\u001b[39m                                Traceback (most recent call last)",
      "\u001b[36mCell\u001b[39m\u001b[36m \u001b[39m\u001b[32mIn[8]\u001b[39m\u001b[32m, line 4\u001b[39m\n\u001b[32m      3\u001b[39m \u001b[38;5;28;01mtry\u001b[39;00m:\n\u001b[32m----> \u001b[39m\u001b[32m4\u001b[39m     \u001b[38;5;28mprint\u001b[39m(\u001b[43ma_list\u001b[49m\u001b[43m[\u001b[49m\u001b[32;43m3\u001b[39;49m\u001b[43m]\u001b[49m)\n\u001b[32m      5\u001b[39m \u001b[38;5;28;01mexcept\u001b[39;00m \u001b[38;5;167;01mException\u001b[39;00m \u001b[38;5;28;01mas\u001b[39;00m e:\n",
      "\u001b[31mIndexError\u001b[39m: list index out of range",
      "\nDuring handling of the above exception, another exception occurred:\n",
      "\u001b[31mZeroDivisionError\u001b[39m                         Traceback (most recent call last)",
      "\u001b[36mCell\u001b[39m\u001b[36m \u001b[39m\u001b[32mIn[8]\u001b[39m\u001b[32m, line 6\u001b[39m\n\u001b[32m      4\u001b[39m     \u001b[38;5;28mprint\u001b[39m(a_list[\u001b[32m3\u001b[39m])\n\u001b[32m      5\u001b[39m \u001b[38;5;28;01mexcept\u001b[39;00m \u001b[38;5;167;01mException\u001b[39;00m \u001b[38;5;28;01mas\u001b[39;00m e:\n\u001b[32m----> \u001b[39m\u001b[32m6\u001b[39m     \u001b[38;5;28mprint\u001b[39m(\u001b[32;43m0\u001b[39;49m\u001b[43m \u001b[49m\u001b[43m/\u001b[49m\u001b[43m \u001b[49m\u001b[32;43m0\u001b[39;49m)\n",
      "\u001b[31mZeroDivisionError\u001b[39m: division by zero"
     ]
    }
   ],
   "source": [
    "a_list = ['First error', 'Second error']\n",
    "\n",
    "try:\n",
    "    print(a_list[3])\n",
    "except Exception as e:\n",
    "    print(0 / 0)\n"
   ]
  },
  {
   "cell_type": "code",
   "execution_count": 9,
   "id": "8d4aaeb1",
   "metadata": {},
   "outputs": [
    {
     "name": "stdout",
     "output_type": "stream",
     "text": [
      "Inner exception (f): division by zero\n",
      "Outer exception (e): list index out of range\n",
      "Outer exception referenced: list index out of range\n",
      "Is it the same object: True\n"
     ]
    }
   ],
   "source": [
    "a_list = ['First error', 'Second error']\n",
    "\n",
    "try:\n",
    "    print(a_list[3])\n",
    "except Exception as e:\n",
    "    try:\n",
    "        # the following line is a developer mistake - they wanted to print progress as 1/10\tbut wrote 1/0\n",
    "        print(1 / 0)\n",
    "    except ZeroDivisionError as f:\n",
    "        print('Inner exception (f):', f)\n",
    "        print('Outer exception (e):', e)\n",
    "        print('Outer exception referenced:', f.__context__)\n",
    "        print('Is it the same object:', f.__context__ is e)\n"
   ]
  },
  {
   "cell_type": "code",
   "execution_count": 10,
   "id": "5933dfc7",
   "metadata": {},
   "outputs": [
    {
     "name": "stdout",
     "output_type": "stream",
     "text": [
      "Final check procedure\n",
      "\tThe captain's name is John\n",
      "\tThe pilot's name is Mary\n",
      "\tThe mechanic's name is Mike\n"
     ]
    },
    {
     "ename": "RocketNotReadyError",
     "evalue": "Crew is incomplete",
     "output_type": "error",
     "traceback": [
      "\u001b[31m---------------------------------------------------------------------------\u001b[39m",
      "\u001b[31mIndexError\u001b[39m                                Traceback (most recent call last)",
      "\u001b[36mCell\u001b[39m\u001b[36m \u001b[39m\u001b[32mIn[10]\u001b[39m\u001b[32m, line 10\u001b[39m, in \u001b[36mpersonnel_check\u001b[39m\u001b[34m()\u001b[39m\n\u001b[32m      9\u001b[39m     \u001b[38;5;28mprint\u001b[39m(\u001b[33m\"\u001b[39m\u001b[38;5;130;01m\\t\u001b[39;00m\u001b[33mThe mechanic\u001b[39m\u001b[33m'\u001b[39m\u001b[33ms name is\u001b[39m\u001b[33m\"\u001b[39m, crew[\u001b[32m2\u001b[39m])\n\u001b[32m---> \u001b[39m\u001b[32m10\u001b[39m     \u001b[38;5;28mprint\u001b[39m(\u001b[33m\"\u001b[39m\u001b[38;5;130;01m\\t\u001b[39;00m\u001b[33mThe navigator\u001b[39m\u001b[33m'\u001b[39m\u001b[33ms name is\u001b[39m\u001b[33m\"\u001b[39m, \u001b[43mcrew\u001b[49m\u001b[43m[\u001b[49m\u001b[32;43m3\u001b[39;49m\u001b[43m]\u001b[49m)\n\u001b[32m     11\u001b[39m \u001b[38;5;28;01mexcept\u001b[39;00m \u001b[38;5;167;01mIndexError\u001b[39;00m \u001b[38;5;28;01mas\u001b[39;00m e:\n",
      "\u001b[31mIndexError\u001b[39m: list index out of range",
      "\nThe above exception was the direct cause of the following exception:\n",
      "\u001b[31mRocketNotReadyError\u001b[39m                       Traceback (most recent call last)",
      "\u001b[36mCell\u001b[39m\u001b[36m \u001b[39m\u001b[32mIn[10]\u001b[39m\u001b[32m, line 17\u001b[39m\n\u001b[32m     14\u001b[39m crew = [\u001b[33m'\u001b[39m\u001b[33mJohn\u001b[39m\u001b[33m'\u001b[39m, \u001b[33m'\u001b[39m\u001b[33mMary\u001b[39m\u001b[33m'\u001b[39m, \u001b[33m'\u001b[39m\u001b[33mMike\u001b[39m\u001b[33m'\u001b[39m]\n\u001b[32m     15\u001b[39m \u001b[38;5;28mprint\u001b[39m(\u001b[33m'\u001b[39m\u001b[33mFinal check procedure\u001b[39m\u001b[33m'\u001b[39m)\n\u001b[32m---> \u001b[39m\u001b[32m17\u001b[39m \u001b[43mpersonnel_check\u001b[49m\u001b[43m(\u001b[49m\u001b[43m)\u001b[49m\n",
      "\u001b[36mCell\u001b[39m\u001b[36m \u001b[39m\u001b[32mIn[10]\u001b[39m\u001b[32m, line 12\u001b[39m, in \u001b[36mpersonnel_check\u001b[39m\u001b[34m()\u001b[39m\n\u001b[32m     10\u001b[39m     \u001b[38;5;28mprint\u001b[39m(\u001b[33m\"\u001b[39m\u001b[38;5;130;01m\\t\u001b[39;00m\u001b[33mThe navigator\u001b[39m\u001b[33m'\u001b[39m\u001b[33ms name is\u001b[39m\u001b[33m\"\u001b[39m, crew[\u001b[32m3\u001b[39m])\n\u001b[32m     11\u001b[39m \u001b[38;5;28;01mexcept\u001b[39;00m \u001b[38;5;167;01mIndexError\u001b[39;00m \u001b[38;5;28;01mas\u001b[39;00m e:\n\u001b[32m---> \u001b[39m\u001b[32m12\u001b[39m     \u001b[38;5;28;01mraise\u001b[39;00m RocketNotReadyError(\u001b[33m'\u001b[39m\u001b[33mCrew is incomplete\u001b[39m\u001b[33m'\u001b[39m) \u001b[38;5;28;01mfrom\u001b[39;00m\u001b[38;5;250m \u001b[39m\u001b[34;01me\u001b[39;00m\n",
      "\u001b[31mRocketNotReadyError\u001b[39m: Crew is incomplete"
     ]
    }
   ],
   "source": [
    "class RocketNotReadyError(Exception):\n",
    "    pass\n",
    "\n",
    "\n",
    "def personnel_check():\n",
    "    try:\n",
    "        print(\"\\tThe captain's name is\", crew[0])\n",
    "        print(\"\\tThe pilot's name is\", crew[1])\n",
    "        print(\"\\tThe mechanic's name is\", crew[2])\n",
    "        print(\"\\tThe navigator's name is\", crew[3])\n",
    "    except IndexError as e:\n",
    "        raise RocketNotReadyError('Crew is incomplete') from e\n",
    "\n",
    "crew = ['John', 'Mary', 'Mike']\n",
    "print('Final check procedure')\n",
    "\n",
    "personnel_check()\n"
   ]
  },
  {
   "cell_type": "code",
   "execution_count": 11,
   "id": "63097da4",
   "metadata": {},
   "outputs": [
    {
     "name": "stdout",
     "output_type": "stream",
     "text": [
      "Final check procedure\n",
      "\tThe captain's name is John\n",
      "\tThe pilot's name is Mary\n",
      "\tThe mechanic's name is Mike\n",
      "General exception: \"Crew is incomplete\", caused by \"list index out of range\"\n"
     ]
    }
   ],
   "source": [
    "class RocketNotReadyError(Exception):\n",
    "    pass\n",
    "\n",
    "\n",
    "def personnel_check():\n",
    "    try:\n",
    "        print(\"\\tThe captain's name is\", crew[0])\n",
    "        print(\"\\tThe pilot's name is\", crew[1])\n",
    "        print(\"\\tThe mechanic's name is\", crew[2])\n",
    "        print(\"\\tThe navigator's name is\", crew[3])\n",
    "    except IndexError as e:\n",
    "        raise RocketNotReadyError('Crew is incomplete') from e\n",
    "\n",
    "crew = ['John', 'Mary', 'Mike']\n",
    "print('Final check procedure')\n",
    "\n",
    "try:\n",
    "    personnel_check()\n",
    "except RocketNotReadyError as f:\n",
    "    print('General exception: \"{}\", caused by \"{}\"'.format(f, f.__cause__))\n"
   ]
  },
  {
   "cell_type": "code",
   "execution_count": 12,
   "id": "f112cdde",
   "metadata": {},
   "outputs": [
    {
     "name": "stdout",
     "output_type": "stream",
     "text": [
      "Final check procedure\n",
      "\tThe captain's name is John\n",
      "\tThe pilot's name is Mary\n",
      "\tThe mechanic's name is Mike\n",
      "RocketNotReady exception: \"Crew is incomplete\", caused by \"list index out of range\"\n",
      "RocketNotReady exception: \"Problem with fuel gauge\", caused by \"division by zero\"\n"
     ]
    }
   ],
   "source": [
    "# FROM AN EXTENDED CHECKLIST\n",
    "class RocketNotReadyError(Exception):\n",
    "    pass\n",
    "\n",
    "\n",
    "def personnel_check():\n",
    "    try:\n",
    "        print(\"\\tThe captain's name is\", crew[0])\n",
    "        print(\"\\tThe pilot's name is\", crew[1])\n",
    "        print(\"\\tThe mechanic's name is\", crew[2])\n",
    "        print(\"\\tThe navigator's name is\", crew[3])\n",
    "    except IndexError as e:\n",
    "        raise RocketNotReadyError('Crew is incomplete') from e\n",
    "\n",
    "\n",
    "def fuel_check():\n",
    "    try:\n",
    "        print('Fuel tank is full in {}%'.format(100 / 0))\n",
    "    except ZeroDivisionError as e:\n",
    "        raise RocketNotReadyError('Problem with fuel gauge') from e\n",
    "\n",
    "\n",
    "crew = ['John', 'Mary', 'Mike']\n",
    "fuel = 100\n",
    "check_list = [personnel_check, fuel_check]\n",
    "\n",
    "print('Final check procedure')\n",
    "\n",
    "for check in check_list:\n",
    "    try:\n",
    "        check()\n",
    "    except RocketNotReadyError as f:\n",
    "        print('RocketNotReady exception: \"{}\", caused by \"{}\"'.format(f, f.__cause__))\n"
   ]
  },
  {
   "cell_type": "markdown",
   "id": "ef0ed10a",
   "metadata": {},
   "source": [
    "**Scenario**\n",
    "\n",
    "- Try to extend the check list script to handle more different checks, all reported as RocketNotReady exceptions.\n",
    "- Add your own checks for: batteries and circuits.\n"
   ]
  },
  {
   "cell_type": "code",
   "execution_count": 15,
   "id": "49efe249",
   "metadata": {},
   "outputs": [
    {
     "name": "stdout",
     "output_type": "stream",
     "text": [
      "Final check procedure\n",
      "\tThe captain's name is John\n",
      "\tThe pilot's name is Mary\n",
      "\tThe mechanic's name is Mike\n",
      "RocketNotReady exception: \"Crew is incomplete\", caused by \"list index out of range\"\n",
      "RocketNotReady exception: \"Problem with fuel gauge\", caused by \"division by zero\"\n",
      "RocketNotReady exception: \"The percentage of the battery is not available to be read\", caused by \"invalid literal for int() with base 10: '80%'\"\n",
      "RocketNotReady exception: \"The connection is not established\", caused by \"name 'connection' is not defined\"\n"
     ]
    }
   ],
   "source": [
    "class RocketNotReadyError(Exception):\n",
    "    pass\n",
    "\n",
    "\n",
    "def personnel_check():\n",
    "    try:\n",
    "        print(\"\\tThe captain's name is\", crew[0])\n",
    "        print(\"\\tThe pilot's name is\", crew[1])\n",
    "        print(\"\\tThe mechanic's name is\", crew[2])\n",
    "        print(\"\\tThe navigator's name is\", crew[3])\n",
    "    except IndexError as e:\n",
    "        raise RocketNotReadyError('Crew is incomplete') from e\n",
    "\n",
    "\n",
    "def fuel_check():\n",
    "    try:\n",
    "        print('Fuel tank is full in {}%'.format(100/0))\n",
    "    except ZeroDivisionError as e:\n",
    "        raise RocketNotReadyError('Problem with fuel gauge') from e\n",
    "\n",
    "def batteries_check():\n",
    "    # add your own implementation\n",
    "    try:\n",
    "        print(f\"The battery level is {int(\"80%\")}\")\n",
    "    except ValueError as e:\n",
    "        raise RocketNotReadyError('The percentage of the battery is not available to be read') from e\n",
    "\n",
    "def circuits_check():\n",
    "    # add your own implementation\n",
    "    try:\n",
    "        is_connected = bool(connection)\n",
    "    except NameError as e:\n",
    "        raise RocketNotReadyError(\"The connection is not established\") from e\n",
    "\n",
    "\n",
    "crew = ['John', 'Mary', 'Mike']\n",
    "fuel = 100\n",
    "check_list = [personnel_check, fuel_check, batteries_check, circuits_check]\n",
    "\n",
    "print('Final check procedure')\n",
    "\n",
    "for check in check_list:\n",
    "    try:\n",
    "        check()\n",
    "    except RocketNotReadyError as f:\n",
    "        print('RocketNotReady exception: \"{}\", caused by \"{}\"'.format(f, f.__cause__))\n"
   ]
  },
  {
   "cell_type": "markdown",
   "id": "e4d79715",
   "metadata": {},
   "source": [
    "Python allows us to operate on the traceback details because each exception object (not only chained ones) owns a __traceback__ attribute. "
   ]
  },
  {
   "cell_type": "code",
   "execution_count": 16,
   "id": "1ea8ee69",
   "metadata": {},
   "outputs": [
    {
     "name": "stdout",
     "output_type": "stream",
     "text": [
      "Final check procedure\n",
      "\tThe captain's name is John\n",
      "\tThe pilot's name is Mary\n",
      "\tThe mechanic's name is Mike\n",
      "<traceback object at 0x740e7949bf00>\n",
      "<class 'traceback'>\n"
     ]
    }
   ],
   "source": [
    "class RocketNotReadyError(Exception):\n",
    "    pass\n",
    "\n",
    "\n",
    "def personnel_check():\n",
    "    try:\n",
    "        print(\"\\tThe captain's name is\", crew[0])\n",
    "        print(\"\\tThe pilot's name is\", crew[1])\n",
    "        print(\"\\tThe mechanic's name is\", crew[2])\n",
    "        print(\"\\tThe navigator's name is\", crew[3])\n",
    "    except IndexError as e:\n",
    "        raise RocketNotReadyError('Crew is incomplete') from e\n",
    "\n",
    "\n",
    "crew = ['John', 'Mary', 'Mike']\n",
    "\n",
    "print('Final check procedure')\n",
    "\n",
    "try:\n",
    "    personnel_check()\n",
    "except RocketNotReadyError as f:\n",
    "    print(f.__traceback__)\n",
    "    print(type(f.__traceback__))\n"
   ]
  },
  {
   "cell_type": "markdown",
   "id": "4e58fbf8",
   "metadata": {},
   "source": [
    "From the output presented on the previous page, we can conclude that we have to deal with a traceback type object.\n",
    "\n",
    "To achieve this, we could use the format_tb() method delivered by the built-in traceback module to get a list of strings describing the traceback.\n",
    "\n",
    "We could use the print_tb() method, also delivered by the traceback module, to print strings directly to the standard output.\n",
    "\n",
    "The corresponding output reveals the sequence of exceptions and proves that the execution was not interrupted by the exceptions because we see the final wording Final check is over."
   ]
  },
  {
   "cell_type": "code",
   "execution_count": null,
   "id": "9b7f8794",
   "metadata": {},
   "outputs": [],
   "source": [
    "import traceback\n",
    "\n",
    "class RocketNotReadyError(Exception):\n",
    "    pass\n",
    "\n",
    "\n",
    "def personnel_check():\n",
    "    try:\n",
    "        print(\"\\tThe captain's name is\", crew[0])\n",
    "        print(\"\\tThe pilot's name is\", crew[1])\n",
    "        print(\"\\tThe mechanic's name is\", crew[2])\n",
    "        print(\"\\tThe navigator's name is\", crew[3])\n",
    "    except IndexError as e:\n",
    "        raise RocketNotReadyError('Crew is incomplete') from e\n",
    "\n",
    "\n",
    "crew = ['John', 'Mary', 'Mike']\n",
    "\n",
    "print('Final check procedure')\n",
    "\n",
    "try:\n",
    "    personnel_check()\n",
    "except RocketNotReadyError as f:\n",
    "    print(f.__traceback__)\n",
    "    print(type(f.__traceback__))\n",
    "    print('\\nTraceback details')\n",
    "    details = traceback.format_tb(f.__traceback__)\n",
    "    print(\"\\n\".join(details))\n",
    "\n",
    "print('Final check is over')\n"
   ]
  }
 ],
 "metadata": {
  "kernelspec": {
   "display_name": "PCPP1",
   "language": "python",
   "name": "python3"
  },
  "language_info": {
   "codemirror_mode": {
    "name": "ipython",
    "version": 3
   },
   "file_extension": ".py",
   "mimetype": "text/x-python",
   "name": "python",
   "nbconvert_exporter": "python",
   "pygments_lexer": "ipython3",
   "version": "3.12.3"
  }
 },
 "nbformat": 4,
 "nbformat_minor": 5
}
