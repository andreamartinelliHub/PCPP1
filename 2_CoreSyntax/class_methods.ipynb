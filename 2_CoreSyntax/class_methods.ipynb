{
 "cells": [
  {
   "cell_type": "code",
   "execution_count": 2,
   "id": "9a5e87d5",
   "metadata": {},
   "outputs": [
    {
     "name": "stdout",
     "output_type": "stream",
     "text": [
      "10\n",
      "99\n"
     ]
    }
   ],
   "source": [
    "# Performing operations on instances\n",
    "# \"self\" means a reference to the instance\n",
    "class Example:\n",
    "    def __init__(self, value):\n",
    "        self.__internal = value\n",
    "\n",
    "    # In order to successfully use the instance method, \n",
    "    # the instance must have previously existed\n",
    "    def get_internal(self):\n",
    "        return self.__internal\n",
    "\n",
    "example1 = Example(10)\n",
    "example2 = Example(99)\n",
    "print(example1.get_internal())\n",
    "print(example2.get_internal())"
   ]
  },
  {
   "cell_type": "code",
   "execution_count": null,
   "id": "aeb53fc2",
   "metadata": {},
   "outputs": [
    {
     "name": "stdout",
     "output_type": "stream",
     "text": [
      "# of objects created: 0\n",
      "# of objects created: 1\n",
      "# of objects created: 2\n"
     ]
    }
   ],
   "source": [
    "# There aer also clas and static methods as alternatives\n",
    "# extending the ability yo use classes.\n",
    "\n",
    "## CLASS METHODS:\n",
    "# Useful if:\n",
    "# - control access to class variables\n",
    "# - create a class instance in an alternative way\n",
    "class LuxuryWatchExample:\n",
    "    __internal_counter = 0\n",
    "\n",
    "    def __init__(self, value):\n",
    "        # in the constructor, an instance method, cls cannot be used, \n",
    "        # then it uses \"Example\" explicitly \n",
    "        Example.__internal_counter +=1\n",
    "\n",
    "    @classmethod\n",
    "    def get_internal(cls): # cls is a convention\n",
    "        return '# of objects created: {}'.format(cls.__internal_counter)\n",
    "\n",
    "print(Example.get_internal())\n",
    "# Using \"Example.__internal_counter\" would be inconsistent\n",
    "# the code loses its effectiveness in communicating its own meaning\n",
    "\n",
    "example1 = Example(10)\n",
    "print(Example.get_internal())\n",
    "\n",
    "example2 = Example(99)\n",
    "print(Example.get_internal())\n"
   ]
  },
  {
   "cell_type": "code",
   "execution_count": null,
   "id": "82330b36",
   "metadata": {},
   "outputs": [],
   "source": [
    "# class method as an alternative constructor, \n",
    "# allowing you to handle an additional argument\n",
    "class Car:\n",
    "    def __init__(self, vin):\n",
    "        print('Ordinary __init__ was called for', vin)\n",
    "        self.vin = vin\n",
    "        self.brand = ''\n",
    "\n",
    "    @classmethod\n",
    "    def including_brand(cls, vin, brand):\n",
    "        print('Class method was called')\n",
    "        _car = cls(vin)\n",
    "        _car.brand = brand\n",
    "        return _car\n",
    "\n",
    "car1 = Car('ABCD1234')\n",
    "car2 = Car.including_brand('DEF567', 'NewBrand')\n",
    "\n",
    "print(car1.vin, car1.brand)\n",
    "print(car2.vin, car2.brand)"
   ]
  },
  {
   "cell_type": "code",
   "execution_count": null,
   "id": "b6660c03",
   "metadata": {},
   "outputs": [
    {
     "name": "stdout",
     "output_type": "stream",
     "text": [
      "We can use 88888888888888888888  to create a bank account\n",
      "The account number 7777 is invalid\n",
      "The account number 2222 is invalid\n"
     ]
    }
   ],
   "source": [
    "## STATIC METHODS\n",
    "# - utility method related to a class not requiring a an object of the class\n",
    "# - a method that does not need to know the state of the object/class\n",
    "class Bank_Account:\n",
    "    def __init__(self, iban):\n",
    "        print('__init__ called')\n",
    "        self.iban = iban\n",
    "            \n",
    "    @staticmethod\n",
    "    def validate(iban):\n",
    "        if len(iban) == 20:\n",
    "            return True\n",
    "        else:\n",
    "            return False\n",
    "        \n",
    "account_numbers = ['8'*20, '7'*4, '2222']\n",
    "\n",
    "for element in account_numbers:\n",
    "    if Bank_Account.validate(element):\n",
    "        print('We can use', element, ' to create a bank account')\n",
    "    else:\n",
    "        print('The account number', element, 'is invalid')"
   ]
  },
  {
   "cell_type": "markdown",
   "id": "3e056d8c",
   "metadata": {},
   "source": [
    "The time has come to compare the use of class and static methods:\n",
    "\n",
    "- a class method requires 'cls' as the first parameter and a static method does not;\n",
    "- a class method has the ability to access the state or methods of the class, and a static method does not;\n",
    "- a class method is decorated by '@classmethod' and a static method by '@staticmethod';\n",
    "- a class method can be used as an alternative way to create objects, and a static method is only a utility method. "
   ]
  },
  {
   "cell_type": "code",
   "execution_count": 16,
   "id": "28575091",
   "metadata": {},
   "outputs": [
    {
     "name": "stdout",
     "output_type": "stream",
     "text": [
      "0\n",
      "1\n",
      "Engraving 1234567890\n",
      "2\n",
      "Non valid engraving\n",
      "3\n"
     ]
    }
   ],
   "source": [
    "class LuxuryWatch():\n",
    "    watches_created = 0\n",
    "\n",
    "    def __init__(self):\n",
    "        LuxuryWatch.watches_created +=1\n",
    "\n",
    "    @classmethod\n",
    "    def custom_init(cls, engraving):\n",
    "        _item = cls()\n",
    "        try:\n",
    "            if cls.validate_engraving(engraving)==True:\n",
    "                _item.engraving = engraving\n",
    "                print(\"Engraving\", engraving)\n",
    "        except:\n",
    "            print(\"Non valid engraving\")\n",
    "            pass\n",
    "        return _item\n",
    "\n",
    "    @classmethod\n",
    "    def get_number_of_watches_created(cls):\n",
    "        return cls.watches_created\n",
    "    \n",
    "    @staticmethod\n",
    "    def validate_engraving(engraving):\n",
    "        if len(engraving)>40:\n",
    "            raise ValueError\n",
    "        if not engraving.isalnum():\n",
    "            raise ValueError\n",
    "        return True\n",
    "\n",
    "print(LuxuryWatch.get_number_of_watches_created())\n",
    "example0 = LuxuryWatch()\n",
    "print(LuxuryWatch.get_number_of_watches_created())\n",
    "\n",
    "example1 = LuxuryWatch.custom_init(\"1234567890\")\n",
    "print(LuxuryWatch.get_number_of_watches_created())\n",
    "\n",
    "example2 = LuxuryWatch.custom_init(\"abc 123\")\n",
    "print(LuxuryWatch.get_number_of_watches_created())"
   ]
  },
  {
   "cell_type": "code",
   "execution_count": 17,
   "id": "36ea8b3d",
   "metadata": {},
   "outputs": [
    {
     "data": {
      "text/plain": [
       "['__class__',\n",
       " '__delattr__',\n",
       " '__dict__',\n",
       " '__dir__',\n",
       " '__doc__',\n",
       " '__eq__',\n",
       " '__format__',\n",
       " '__ge__',\n",
       " '__getattribute__',\n",
       " '__getstate__',\n",
       " '__gt__',\n",
       " '__hash__',\n",
       " '__init__',\n",
       " '__init_subclass__',\n",
       " '__le__',\n",
       " '__lt__',\n",
       " '__module__',\n",
       " '__ne__',\n",
       " '__new__',\n",
       " '__reduce__',\n",
       " '__reduce_ex__',\n",
       " '__repr__',\n",
       " '__setattr__',\n",
       " '__sizeof__',\n",
       " '__str__',\n",
       " '__subclasshook__',\n",
       " '__weakref__',\n",
       " 'custom_init',\n",
       " 'get_number_of_watches_created',\n",
       " 'validate_engraving',\n",
       " 'watches_created']"
      ]
     },
     "execution_count": 17,
     "metadata": {},
     "output_type": "execute_result"
    }
   ],
   "source": [
    "dir(example0)"
   ]
  }
 ],
 "metadata": {
  "kernelspec": {
   "display_name": "PCPP1",
   "language": "python",
   "name": "python3"
  },
  "language_info": {
   "codemirror_mode": {
    "name": "ipython",
    "version": 3
   },
   "file_extension": ".py",
   "mimetype": "text/x-python",
   "name": "python",
   "nbconvert_exporter": "python",
   "pygments_lexer": "ipython3",
   "version": "3.12.3"
  }
 },
 "nbformat": 4,
 "nbformat_minor": 5
}
