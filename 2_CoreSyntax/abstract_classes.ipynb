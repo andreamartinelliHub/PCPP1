{
 "cells": [
  {
   "cell_type": "markdown",
   "id": "29c48057",
   "metadata": {},
   "source": [
    "## ABSTRACT CLASS\n",
    "An abstract class should be considered a blueprint for other classes, a kind of contract between a class designer and a programmer:\n",
    "\n",
    "- the class designer sets requirements regarding methods that must be implemented by just declaring them, but not defining them in detail. Such methods are called *abstract methods*.\n",
    "- The programmer has to deliver all method definitions and the completeness would be validated by another, dedicated module. The programmer delivers the method definitions by overriding the method declarations received from the class designer.\n"
   ]
  },
  {
   "cell_type": "code",
   "execution_count": 5,
   "id": "7403b834",
   "metadata": {},
   "outputs": [
    {
     "name": "stdout",
     "output_type": "stream",
     "text": [
      "Welcome to Green Field!\n"
     ]
    }
   ],
   "source": [
    "import abc # Abstract Base Classes (ABC)\n",
    "\n",
    "class BluePrint(abc.ABC):\n",
    "\n",
    "    @abc.abstractmethod\n",
    "    def hello(self):\n",
    "        pass\n",
    "\n",
    "class GreenField(BluePrint):\n",
    "    def hello(self):\n",
    "        print('Welcome to Green Field!')\n",
    "\n",
    "# When the base class provides more abstract methods, \n",
    "# all of them must be overridden in a subclass \n",
    "# before the subclass can be instantiated.\n",
    "\n",
    "gf = GreenField()\n",
    "gf.hello()\n",
    "\n",
    "# bp = BluePrint()"
   ]
  },
  {
   "cell_type": "markdown",
   "id": "6d88efee",
   "metadata": {},
   "source": [
    "**Multiple inheritance**\n",
    "\n",
    "When you plan to implement a multiple inheritance from abstract classes, remember that an effective subclass should override all abstract methods inherited from its super classes"
   ]
  }
 ],
 "metadata": {
  "kernelspec": {
   "display_name": "PCPP1",
   "language": "python",
   "name": "python3"
  },
  "language_info": {
   "codemirror_mode": {
    "name": "ipython",
    "version": 3
   },
   "file_extension": ".py",
   "mimetype": "text/x-python",
   "name": "python",
   "nbconvert_exporter": "python",
   "pygments_lexer": "ipython3",
   "version": "3.12.3"
  }
 },
 "nbformat": 4,
 "nbformat_minor": 5
}
