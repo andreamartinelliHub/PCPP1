{
 "cells": [
  {
   "cell_type": "markdown",
   "id": "2ef2e29d",
   "metadata": {},
   "source": [
    "**Summary**\n",
    "- Python allows you to subclass any built-in class such as a list, tuple, dictionary, and many others;\n",
    "- by subclassing the built-ins, you can easily adapt generics to provide more sophisticated features;\n",
    "- by subclassing the built-ins, you can modify only the parts (methods, attributes) that you intend to modify, while all remaining parts will behave as good old built-ins.\n"
   ]
  },
  {
   "cell_type": "code",
   "execution_count": 1,
   "id": "dcd8f159",
   "metadata": {},
   "outputs": [
    {
     "name": "stdout",
     "output_type": "stream",
     "text": [
      "Appending int elements succeed: [66, 22]\n",
      "Inserting int element succeed: [49, 22]\n",
      "Extending with int elements succeed: [49, 22, 2, 3]\n",
      "Appending string failed\n",
      "Inserting string failed\n",
      "Extending with ineligible element failed\n",
      "Final result: [49, 22, 2, 3]\n"
     ]
    }
   ],
   "source": [
    "class IntegerList(list):\n",
    "\n",
    "    @staticmethod\n",
    "    def check_value_type(value):\n",
    "        if type(value) is not int:\n",
    "            raise ValueError('Not an integer type')\n",
    "\n",
    "    def __setitem__(self, index, value):\n",
    "        IntegerList.check_value_type(value)\n",
    "        list.__setitem__(self, index, value)\n",
    "\n",
    "    def append(self, value):\n",
    "        IntegerList.check_value_type(value)\n",
    "        list.append(self, value)\n",
    "\n",
    "    def extend(self, iterable):\n",
    "        for element in iterable:\n",
    "            IntegerList.check_value_type(element)\n",
    "\n",
    "        list.extend(self, iterable)\n",
    "\n",
    "\n",
    "int_list = IntegerList()\n",
    "\n",
    "int_list.append(66)\n",
    "int_list.append(22)\n",
    "print('Appending int elements succeed:', int_list)\n",
    "\n",
    "int_list[0] = 49\n",
    "print('Inserting int element succeed:', int_list)\n",
    "\n",
    "int_list.extend([2, 3])\n",
    "print('Extending with int elements succeed:', int_list)\n",
    "\n",
    "try:\n",
    "    int_list.append('8-10')\n",
    "except ValueError:\n",
    "    print('Appending string failed')\n",
    "\n",
    "try:\n",
    "    int_list[0] = '10/11'\n",
    "except ValueError:\n",
    "    print('Inserting string failed')\n",
    "\n",
    "try:\n",
    "    int_list.extend([997, '10/11'])\n",
    "except ValueError:\n",
    "    print('Extending with ineligible element failed')\n",
    "\n",
    "print('Final result:', int_list)\n"
   ]
  },
  {
   "cell_type": "code",
   "execution_count": 2,
   "id": "3175641d",
   "metadata": {},
   "outputs": [
    {
     "name": "stdout",
     "output_type": "stream",
     "text": [
      "Element kk[10]: 15\n",
      "Whole dictionary: {10: 15, 20: 5}\n",
      "Our log book:\n",
      "\n",
      "2025-09-07 (11:46:46.775042) MonitoredDict created\n",
      "2025-09-07 (11:46:46.775107) value for key [10] set\n",
      "2025-09-07 (11:46:46.775154) value for key [20] set\n",
      "2025-09-07 (11:46:46.775203) value for key [10] retrieved\n"
     ]
    }
   ],
   "source": [
    "from datetime import datetime\n",
    "\n",
    "\n",
    "class MonitoredDict(dict):\n",
    "    def __init__(self, *args, **kwargs):\n",
    "        super().__init__(*args, **kwargs)\n",
    "        self.log = list()\n",
    "        self.log_timestamp('MonitoredDict created')\n",
    "\n",
    "    def __getitem__(self, key):\n",
    "        val = super().__getitem__(key)\n",
    "        self.log_timestamp('value for key [{}] retrieved'.format(key))\n",
    "        return val\n",
    "\n",
    "    def __setitem__(self, key, val):\n",
    "        super().__setitem__(key, val)\n",
    "        self.log_timestamp('value for key [{}] set'.format(key))\n",
    "\n",
    "    def log_timestamp(self, message):\n",
    "        timestampStr = datetime.now().strftime(\"%Y-%m-%d (%H:%M:%S.%f)\")\n",
    "        self.log.append('{} {}'.format(timestampStr, message))\n",
    "\n",
    "\n",
    "kk = MonitoredDict()\n",
    "kk[10] = 15\n",
    "kk[20] = 5\n",
    "\n",
    "print('Element kk[10]:', kk[10])\n",
    "print('Whole dictionary:', kk)\n",
    "print('Our log book:\\n')\n",
    "print('\\n'.join(kk.log))\n"
   ]
  },
  {
   "cell_type": "code",
   "execution_count": 12,
   "id": "91135710",
   "metadata": {},
   "outputs": [
    {
     "name": "stdout",
     "output_type": "stream",
     "text": [
      "IBAN entered is valid.\n"
     ]
    }
   ],
   "source": [
    "# IBAN Validator\n",
    "\n",
    "# iban = input(\"Enter IBAN, please: \")\n",
    "iban = \"GB72 HBZU 7006 7212 1253 00\"\n",
    "iban = iban.replace(' ','')\n",
    "if not iban.isalnum():\n",
    "    print(\"You have entered invalid characters.\")\n",
    "elif len(iban) < 15:\n",
    "    print(\"IBAN entered is too short.\")\n",
    "elif len(iban) > 31:\n",
    "    print(\"IBAN entered is too long.\")\n",
    "else:\n",
    "    iban = (iban[4:] + iban[0:4]).upper()\n",
    "    iban2 = ''\n",
    "    for ch in iban:\n",
    "        if ch.isdigit():\n",
    "            iban2 += ch\n",
    "        else:\n",
    "            iban2 += str(10 + ord(ch) - ord('A'))\n",
    "    ibann = int(iban2)\n",
    "    if ibann % 97 == 1:\n",
    "        print(\"IBAN entered is valid.\")\n",
    "    else:\n",
    "        print(\"IBAN entered is invalid.\",ibann%97)\n"
   ]
  },
  {
   "cell_type": "code",
   "execution_count": 13,
   "id": "b13998c2",
   "metadata": {},
   "outputs": [
    {
     "name": "stdout",
     "output_type": "stream",
     "text": [
      "The my_dict dictionary contains:\n",
      "\tGB72 HBZU 7006 7212 1253 00 -> 639\n",
      "\tFR76 30003 03620 00020216907 50 -> 459\n",
      "\tDE02100100100152517108 -> 977\n",
      "IBANDict has protected your dictionary against incorrect data insertion\n"
     ]
    }
   ],
   "source": [
    "import random\n",
    "\n",
    "\n",
    "class IBANValidationError(Exception):\n",
    "    pass\n",
    "\n",
    "\n",
    "class IBANDict(dict):\n",
    "    def __setitem__(self, _key, _val):\n",
    "        if validateIBAN(_key):\n",
    "            super().__setitem__(_key, _val)\n",
    "\n",
    "    def update(self, *args, **kwargs):\n",
    "        for _key, _val in dict(*args, **kwargs).items():\n",
    "            self.__setitem__(_key, _val)\n",
    "\n",
    "\n",
    "def validateIBAN(iban):\n",
    "    iban = iban.replace(' ', '')\n",
    "\n",
    "    if not iban.isalnum():\n",
    "        raise IBANValidationError(\"You have entered invalid characters.\")\n",
    "\n",
    "    elif len(iban) < 15:\n",
    "        raise IBANValidationError(\"IBAN entered is too short.\")\n",
    "\n",
    "    elif len(iban) > 31:\n",
    "        raise IBANValidationError(\"IBAN entered is too long.\")\n",
    "\n",
    "    else:\n",
    "        iban = (iban[4:] + iban[0:4]).upper()\n",
    "        iban2 = ''\n",
    "        for ch in iban:\n",
    "            if ch.isdigit():\n",
    "                iban2 += ch\n",
    "            else:\n",
    "                iban2 += str(10 + ord(ch) - ord('A'))\n",
    "        ibann = int(iban2)\n",
    "\n",
    "        if ibann % 97 != 1:\n",
    "            raise IBANValidationError(\"IBAN entered is invalid.\")\n",
    "\n",
    "        return True\n",
    "\n",
    "\n",
    "my_dict = IBANDict()\n",
    "keys = ['GB72 HBZU 7006 7212 1253 00', 'FR76 30003 03620 00020216907 50', 'DE02100100100152517108']\n",
    "\n",
    "for key in keys:\n",
    "    my_dict[key] = random.randint(0, 1000)\n",
    "\n",
    "print('The my_dict dictionary contains:')\n",
    "for key, value in my_dict.items():\n",
    "    print(\"\\t{} -> {}\".format(key, value))\n",
    "\n",
    "try:\n",
    "    my_dict.update({'dummy_account': 100})\n",
    "except IBANValidationError:\n",
    "    print('IBANDict has protected your dictionary against incorrect data insertion')\n"
   ]
  }
 ],
 "metadata": {
  "kernelspec": {
   "display_name": "PCPP1",
   "language": "python",
   "name": "python3"
  },
  "language_info": {
   "codemirror_mode": {
    "name": "ipython",
    "version": 3
   },
   "file_extension": ".py",
   "mimetype": "text/x-python",
   "name": "python",
   "nbconvert_exporter": "python",
   "pygments_lexer": "ipython3",
   "version": "3.12.3"
  }
 },
 "nbformat": 4,
 "nbformat_minor": 5
}
