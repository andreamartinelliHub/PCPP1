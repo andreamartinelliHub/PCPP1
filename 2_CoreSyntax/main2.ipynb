{
 "cells": [
  {
   "cell_type": "code",
   "execution_count": 4,
   "id": "12404b92",
   "metadata": {},
   "outputs": [
    {
     "name": "stdout",
     "output_type": "stream",
     "text": [
      "30\n",
      "30\n",
      "65\n"
     ]
    },
    {
     "data": {
      "text/plain": [
       "['__abs__',\n",
       " '__add__',\n",
       " '__and__',\n",
       " '__bool__',\n",
       " '__ceil__',\n",
       " '__class__',\n",
       " '__delattr__',\n",
       " '__dir__',\n",
       " '__divmod__',\n",
       " '__doc__',\n",
       " '__eq__',\n",
       " '__float__',\n",
       " '__floor__',\n",
       " '__floordiv__',\n",
       " '__format__',\n",
       " '__ge__',\n",
       " '__getattribute__',\n",
       " '__getnewargs__',\n",
       " '__getstate__',\n",
       " '__gt__',\n",
       " '__hash__',\n",
       " '__index__',\n",
       " '__init__',\n",
       " '__init_subclass__',\n",
       " '__int__',\n",
       " '__invert__',\n",
       " '__le__',\n",
       " '__lshift__',\n",
       " '__lt__',\n",
       " '__mod__',\n",
       " '__mul__',\n",
       " '__ne__',\n",
       " '__neg__',\n",
       " '__new__',\n",
       " '__or__',\n",
       " '__pos__',\n",
       " '__pow__',\n",
       " '__radd__',\n",
       " '__rand__',\n",
       " '__rdivmod__',\n",
       " '__reduce__',\n",
       " '__reduce_ex__',\n",
       " '__repr__',\n",
       " '__rfloordiv__',\n",
       " '__rlshift__',\n",
       " '__rmod__',\n",
       " '__rmul__',\n",
       " '__ror__',\n",
       " '__round__',\n",
       " '__rpow__',\n",
       " '__rrshift__',\n",
       " '__rshift__',\n",
       " '__rsub__',\n",
       " '__rtruediv__',\n",
       " '__rxor__',\n",
       " '__setattr__',\n",
       " '__sizeof__',\n",
       " '__str__',\n",
       " '__sub__',\n",
       " '__subclasshook__',\n",
       " '__truediv__',\n",
       " '__trunc__',\n",
       " '__xor__',\n",
       " 'as_integer_ratio',\n",
       " 'bit_count',\n",
       " 'bit_length',\n",
       " 'conjugate',\n",
       " 'denominator',\n",
       " 'from_bytes',\n",
       " 'imag',\n",
       " 'is_integer',\n",
       " 'numerator',\n",
       " 'real',\n",
       " 'to_bytes']"
      ]
     },
     "execution_count": 4,
     "metadata": {},
     "output_type": "execute_result"
    }
   ],
   "source": [
    "number = 10\n",
    "print(number + 20)\n",
    "print(number.__add__(20))\n",
    "\n",
    "class Person:\n",
    "    def __init__(self, weight, age, salary):\n",
    "        self.weight = weight\n",
    "        self.age = age\n",
    "        self.salary = salary\n",
    "\n",
    "    def __add__(self, other):\n",
    "        return self.weight + other.weight\n",
    "\n",
    "\n",
    "p1 = Person(30, 40, 50)\n",
    "p2 = Person(35, 45, 55)\n",
    "\n",
    "print(p1 + p2)\n",
    "\n",
    "dir(10) # returns a list of the attributes and methods of the object"
   ]
  },
  {
   "cell_type": "markdown",
   "id": "af275d27",
   "metadata": {},
   "source": [
    "***Scenario***\n",
    "\n",
    "    Create a class representing a time interval;\n",
    "    the class should implement its own method for addition, subtraction on time interval class objects;\n",
    "    the class should implement its own method for multiplication of time interval class objects by an integer-type value;\n",
    "    the __init__ method should be based on keywords to allow accurate and convenient object initialization, but limit it to hours, minutes, and seconds parameters;\n",
    "    the __str__ method should return an HH:MM:SS string, where HH represents hours, MM represents minutes and SS represents the seconds attributes of the time interval object;\n",
    "    check the argument type, and in case of a mismatch, raise a TypeError exception.\n"
   ]
  },
  {
   "cell_type": "code",
   "execution_count": 30,
   "id": "767f9d14",
   "metadata": {},
   "outputs": [
    {
     "ename": "AttributeError",
     "evalue": "'TimeInterval' object has no attribute 'isinstance'",
     "output_type": "error",
     "traceback": [
      "\u001b[31m---------------------------------------------------------------------------\u001b[39m",
      "\u001b[31mAttributeError\u001b[39m                            Traceback (most recent call last)",
      "\u001b[36mCell\u001b[39m\u001b[36m \u001b[39m\u001b[32mIn[30]\u001b[39m\u001b[32m, line 45\u001b[39m\n\u001b[32m     42\u001b[39m fti = TimeInterval(\u001b[32m21\u001b[39m, \u001b[32m58\u001b[39m, \u001b[32m50\u001b[39m)\n\u001b[32m     43\u001b[39m sti = TimeInterval(\u001b[32m1\u001b[39m, \u001b[32m45\u001b[39m, \u001b[32m22\u001b[39m)\n\u001b[32m---> \u001b[39m\u001b[32m45\u001b[39m \u001b[38;5;28mprint\u001b[39m(\u001b[43mfti\u001b[49m\u001b[43m+\u001b[49m\u001b[43msti\u001b[49m)\n\u001b[32m     46\u001b[39m \u001b[38;5;28mprint\u001b[39m(fti-sti)\n\u001b[32m     47\u001b[39m \u001b[38;5;28mprint\u001b[39m(fti*\u001b[32m2\u001b[39m)\n",
      "\u001b[36mCell\u001b[39m\u001b[36m \u001b[39m\u001b[32mIn[30]\u001b[39m\u001b[32m, line 16\u001b[39m, in \u001b[36mTimeInterval.__add__\u001b[39m\u001b[34m(self, other)\u001b[39m\n\u001b[32m     15\u001b[39m \u001b[38;5;28;01mdef\u001b[39;00m\u001b[38;5;250m \u001b[39m\u001b[34m__add__\u001b[39m(\u001b[38;5;28mself\u001b[39m, other):\n\u001b[32m---> \u001b[39m\u001b[32m16\u001b[39m     \u001b[38;5;28;01mif\u001b[39;00m \u001b[43mother\u001b[49m\u001b[43m.\u001b[49m\u001b[43misinstance\u001b[49m(\u001b[38;5;28mint\u001b[39m):\n\u001b[32m     17\u001b[39m         total_sec = \u001b[38;5;28mself\u001b[39m.seconds + other\n\u001b[32m     18\u001b[39m     \u001b[38;5;28;01melif\u001b[39;00m other.isinstance(TimeInterval):\n",
      "\u001b[31mAttributeError\u001b[39m: 'TimeInterval' object has no attribute 'isinstance'"
     ]
    }
   ],
   "source": [
    "class TimeInterval():\n",
    "    \n",
    "    def __init__(self, h, min, sec):\n",
    "        # 17//5, 17%5\n",
    "        h_to_sec = h*3600\n",
    "        min_to_sec = min * 60\n",
    "        self.seconds = sec + min_to_sec + h_to_sec\n",
    "        \n",
    "    def __str__(self):\n",
    "        sec = self.seconds%60\n",
    "        min = self.seconds%3600//60\n",
    "        hours = self.seconds//3600\n",
    "        return f\"{str(hours):02s}:{str(min):02s}:{str(sec):02s}\"\n",
    "\n",
    "    def __add__(self, other):\n",
    "        if other.isinstance(int):\n",
    "            total_sec = self.seconds + other\n",
    "        elif other.isinstance(TimeInterval):\n",
    "            total_sec = self.seconds + other.seconds\n",
    "        sec = total_sec%60\n",
    "        min = total_sec%3600//60\n",
    "        hours = total_sec//3600\n",
    "        new_TI = TimeInterval(hours, min ,sec)\n",
    "        return new_TI\n",
    "\n",
    "    def __sub__(self, other):\n",
    "        total_sec = self.seconds - other.seconds\n",
    "        sec = total_sec%60\n",
    "        min = total_sec%3600//60\n",
    "        hours = total_sec//3600\n",
    "        new_TI = TimeInterval(hours, min ,sec)\n",
    "        return new_TI\n",
    "\n",
    "    def __mul__(self, other):\n",
    "        total_sec = self.seconds * other\n",
    "        sec = total_sec%60\n",
    "        min = total_sec%3600//60\n",
    "        hours = total_sec//3600\n",
    "        new_TI = TimeInterval(hours, min ,sec)\n",
    "        return new_TI\n",
    "\n",
    "fti = TimeInterval(21, 58, 50)\n",
    "sti = TimeInterval(1, 45, 22)\n",
    "\n",
    "print(fti+sti)\n",
    "print(fti-sti)\n",
    "print(fti*2)\n"
   ]
  },
  {
   "cell_type": "code",
   "execution_count": null,
   "id": "80c304ba",
   "metadata": {},
   "outputs": [
    {
     "data": {
      "text/plain": [
       "(3, 2)"
      ]
     },
     "execution_count": 7,
     "metadata": {},
     "output_type": "execute_result"
    }
   ],
   "source": []
  },
  {
   "cell_type": "code",
   "execution_count": null,
   "id": "d5da06ba",
   "metadata": {},
   "outputs": [],
   "source": []
  },
  {
   "cell_type": "code",
   "execution_count": null,
   "id": "335a3aef",
   "metadata": {},
   "outputs": [],
   "source": []
  }
 ],
 "metadata": {
  "kernelspec": {
   "display_name": ".venv",
   "language": "python",
   "name": "python3"
  },
  "language_info": {
   "codemirror_mode": {
    "name": "ipython",
    "version": 3
   },
   "file_extension": ".py",
   "mimetype": "text/x-python",
   "name": "python",
   "nbconvert_exporter": "python",
   "pygments_lexer": "ipython3",
   "version": "3.12.3"
  }
 },
 "nbformat": 4,
 "nbformat_minor": 5
}
