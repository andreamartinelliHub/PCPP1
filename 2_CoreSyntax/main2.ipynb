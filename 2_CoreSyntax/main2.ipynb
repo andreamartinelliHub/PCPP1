{
 "cells": [
  {
   "cell_type": "code",
   "execution_count": 4,
   "id": "12404b92",
   "metadata": {},
   "outputs": [
    {
     "name": "stdout",
     "output_type": "stream",
     "text": [
      "30\n",
      "30\n",
      "65\n"
     ]
    },
    {
     "data": {
      "text/plain": [
       "['__abs__',\n",
       " '__add__',\n",
       " '__and__',\n",
       " '__bool__',\n",
       " '__ceil__',\n",
       " '__class__',\n",
       " '__delattr__',\n",
       " '__dir__',\n",
       " '__divmod__',\n",
       " '__doc__',\n",
       " '__eq__',\n",
       " '__float__',\n",
       " '__floor__',\n",
       " '__floordiv__',\n",
       " '__format__',\n",
       " '__ge__',\n",
       " '__getattribute__',\n",
       " '__getnewargs__',\n",
       " '__getstate__',\n",
       " '__gt__',\n",
       " '__hash__',\n",
       " '__index__',\n",
       " '__init__',\n",
       " '__init_subclass__',\n",
       " '__int__',\n",
       " '__invert__',\n",
       " '__le__',\n",
       " '__lshift__',\n",
       " '__lt__',\n",
       " '__mod__',\n",
       " '__mul__',\n",
       " '__ne__',\n",
       " '__neg__',\n",
       " '__new__',\n",
       " '__or__',\n",
       " '__pos__',\n",
       " '__pow__',\n",
       " '__radd__',\n",
       " '__rand__',\n",
       " '__rdivmod__',\n",
       " '__reduce__',\n",
       " '__reduce_ex__',\n",
       " '__repr__',\n",
       " '__rfloordiv__',\n",
       " '__rlshift__',\n",
       " '__rmod__',\n",
       " '__rmul__',\n",
       " '__ror__',\n",
       " '__round__',\n",
       " '__rpow__',\n",
       " '__rrshift__',\n",
       " '__rshift__',\n",
       " '__rsub__',\n",
       " '__rtruediv__',\n",
       " '__rxor__',\n",
       " '__setattr__',\n",
       " '__sizeof__',\n",
       " '__str__',\n",
       " '__sub__',\n",
       " '__subclasshook__',\n",
       " '__truediv__',\n",
       " '__trunc__',\n",
       " '__xor__',\n",
       " 'as_integer_ratio',\n",
       " 'bit_count',\n",
       " 'bit_length',\n",
       " 'conjugate',\n",
       " 'denominator',\n",
       " 'from_bytes',\n",
       " 'imag',\n",
       " 'is_integer',\n",
       " 'numerator',\n",
       " 'real',\n",
       " 'to_bytes']"
      ]
     },
     "execution_count": 4,
     "metadata": {},
     "output_type": "execute_result"
    }
   ],
   "source": [
    "number = 10\n",
    "print(number + 20)\n",
    "print(number.__add__(20))\n",
    "\n",
    "class Person:\n",
    "    def __init__(self, weight, age, salary):\n",
    "        self.weight = weight\n",
    "        self.age = age\n",
    "        self.salary = salary\n",
    "\n",
    "    def __add__(self, other):\n",
    "        return self.weight + other.weight\n",
    "\n",
    "\n",
    "p1 = Person(30, 40, 50)\n",
    "p2 = Person(35, 45, 55)\n",
    "\n",
    "print(p1 + p2)\n",
    "\n",
    "dir(10) # returns a list of the attributes and methods of the object"
   ]
  },
  {
   "cell_type": "markdown",
   "id": "af275d27",
   "metadata": {},
   "source": [
    "***Scenario***\n",
    "\n",
    "    Create a class representing a time interval;\n",
    "    the class should implement its own method for addition, subtraction on time interval class objects;\n",
    "    the class should implement its own method for multiplication of time interval class objects by an integer-type value;\n",
    "    the __init__ method should be based on keywords to allow accurate and convenient object initialization, but limit it to hours, minutes, and seconds parameters;\n",
    "    the __str__ method should return an HH:MM:SS string, where HH represents hours, MM represents minutes and SS represents the seconds attributes of the time interval object;\n",
    "    check the argument type, and in case of a mismatch, raise a TypeError exception.\n"
   ]
  },
  {
   "cell_type": "code",
   "execution_count": 6,
   "id": "767f9d14",
   "metadata": {},
   "outputs": [
    {
     "name": "stdout",
     "output_type": "stream",
     "text": [
      "23:44:12\n",
      "20:13:28\n",
      "43:57:40\n",
      "21:59:52\n",
      "21:57:48\n"
     ]
    }
   ],
   "source": [
    "class TimeInterval():\n",
    "    \n",
    "    def __init__(self, h, min, sec):\n",
    "        # 17//5, 17%5\n",
    "        h_to_sec = h*3600\n",
    "        min_to_sec = min * 60\n",
    "        self.seconds = sec + min_to_sec + h_to_sec\n",
    "        \n",
    "    def __str__(self):\n",
    "        sec = self.seconds%60\n",
    "        min = self.seconds%3600//60\n",
    "        hours = self.seconds//3600\n",
    "        return f\"{str(hours):02s}:{str(min):02s}:{str(sec):02s}\"\n",
    "\n",
    "    def __add__(self, other):\n",
    "        if isinstance(other, int):\n",
    "            total_sec = self.seconds + other\n",
    "        elif isinstance(other, TimeInterval):\n",
    "            total_sec = self.seconds + other.seconds\n",
    "        else:\n",
    "            return NotImplemented\n",
    "        sec = total_sec%60\n",
    "        min = total_sec%3600//60\n",
    "        hours = total_sec//3600\n",
    "        new_TI = TimeInterval(hours, min ,sec)\n",
    "        return new_TI\n",
    "\n",
    "    def __sub__(self, other):\n",
    "        if isinstance(other, int):\n",
    "            total_sec = self.seconds - other\n",
    "        elif isinstance(other, TimeInterval):\n",
    "            total_sec = self.seconds - other.seconds\n",
    "        else:\n",
    "            return NotImplemented\n",
    "        sec = total_sec%60\n",
    "        min = total_sec%3600//60\n",
    "        hours = total_sec//3600\n",
    "        new_TI = TimeInterval(hours, min ,sec)\n",
    "        return new_TI\n",
    "\n",
    "    def __mul__(self, other):\n",
    "        total_sec = self.seconds * other\n",
    "        sec = total_sec%60\n",
    "        min = total_sec%3600//60\n",
    "        hours = total_sec//3600\n",
    "        new_TI = TimeInterval(hours, min ,sec)\n",
    "        return new_TI\n",
    "    # def __mul__(self, other):\n",
    "    #     if isinstance(other, (int, float)):  # scalar multiplication\n",
    "    #         return TimeInterval(self.x * other, self.y * other)\n",
    "    #     elif isinstance(other, TimeInterval):  # dot product\n",
    "    #         return self.x * other.x + self.y * other.y\n",
    "    #     else:\n",
    "    #         return NotImplemented\n",
    "\n",
    "    def __instancecheck__(self, instance):\n",
    "        # Custom logic for isinstance\n",
    "        if hasattr(instance, \"seconds\"):\n",
    "            return True   # treat any object with x and y attributes as an instance\n",
    "        return False\n",
    "\n",
    "fti = TimeInterval(21, 58, 50)\n",
    "sti = TimeInterval(1, 45, 22)\n",
    "\n",
    "print(fti+sti)\n",
    "print(fti-sti)\n",
    "print(fti*2)\n",
    "print(fti+62)\n",
    "print(fti-62)\n"
   ]
  },
  {
   "cell_type": "markdown",
   "id": "afebbd44",
   "metadata": {},
   "source": [
    "## Inheritance and polymorphism"
   ]
  },
  {
   "cell_type": "code",
   "execution_count": 12,
   "id": "d5da06ba",
   "metadata": {},
   "outputs": [
    {
     "name": "stdout",
     "output_type": "stream",
     "text": [
      "Class B\n",
      "Class C\n"
     ]
    }
   ],
   "source": [
    "class Vehicle:\n",
    "    pass\n",
    "\n",
    "class LandVehicle(Vehicle):\n",
    "    pass\n",
    "\n",
    "class TrackedVehicle(LandVehicle):\n",
    "    pass\n",
    "\n",
    "# example of mulptiple inheritance\n",
    "class A:\n",
    "    def info(self):\n",
    "        print('Class A')\n",
    "\n",
    "class B(A):\n",
    "    def info(self):\n",
    "        print('Class B')\n",
    "class C(A):\n",
    "    def info(self):\n",
    "        print('Class C')\n",
    "\n",
    "class D(B, C):\n",
    "    pass\n",
    "class E(C, B):\n",
    "    pass\n",
    "\n",
    "# the search continues into the direct parent classes in depth-first level (the first level above), \n",
    "# from the left to the right\n",
    "D().info()\n",
    "E().info()\n"
   ]
  },
  {
   "cell_type": "markdown",
   "id": "ce18e7d7",
   "metadata": {},
   "source": [
    "***Scenario***\n",
    "\n",
    "Your task is to build a multifunction device (MFD) class consisting of methods responsible for document scanning, printing, and sending via fax.\n",
    "The methods are delivered by the following classes:\n",
    "    scan(), delivered by the Scanner class;\n",
    "    print(), delivered by the Printer class;\n",
    "    send() and print(), delivered by the Fax class.\n",
    "Each method should print a message indicating its purpose and origin, like:\n",
    "    'print() method from Printer class'\n",
    "    'send() method from Fax class'\n",
    "create an MFD_SPF class ('SPF' means 'Scanner', 'Printer', 'Fax'), then instantiate it;\n",
    "create an MFD_SFP class ('SFP' means 'Scanner', 'Fax', 'Printer'), then instantiate it;\n",
    "on each object call the methods: scan(), print(), send();\n",
    "observe the output differences. Was the Printer class utilized each time?\n"
   ]
  },
  {
   "cell_type": "code",
   "execution_count": 14,
   "id": "335a3aef",
   "metadata": {},
   "outputs": [
    {
     "name": "stdout",
     "output_type": "stream",
     "text": [
      "\n",
      "--- SPF ---\n",
      "Scanner scanning\n",
      "Printer printing\n",
      "Fax sending\n",
      "\n",
      "--- SFP ---\n",
      "Scanner scanning\n",
      "Fax printing\n",
      "Fax sending\n"
     ]
    }
   ],
   "source": [
    "class Scanner():\n",
    "    def scan(self):\n",
    "        print(\"Scanner scanning\")\n",
    "\n",
    "class Printer():\n",
    "    def print(self):\n",
    "        print(\"Printer printing\")\n",
    "\n",
    "class Fax():\n",
    "    def send(self):\n",
    "        print(\"Fax sending\")\n",
    "        \n",
    "    def print(self):\n",
    "        print(\"Fax printing\")\n",
    "        \n",
    "class SPF(Scanner, Printer, Fax):\n",
    "    pass\n",
    "\n",
    "class SFP(Scanner, Fax, Printer):\n",
    "    pass\n",
    "\n",
    "spf = SPF()\n",
    "sfp = SFP()\n",
    "\n",
    "print(\"\\n--- SPF ---\")\n",
    "spf.scan()\n",
    "spf.print()\n",
    "spf.send()\n",
    "\n",
    "print(\"\\n--- SFP ---\")\n",
    "sfp.scan()\n",
    "sfp.print()\n",
    "sfp.send()"
   ]
  },
  {
   "cell_type": "code",
   "execution_count": null,
   "id": "e4ddd387",
   "metadata": {},
   "outputs": [
    {
     "name": "stdout",
     "output_type": "stream",
     "text": [
      "['__abs__', '__add__', '__and__', '__bool__', '__ceil__', '__class__', '__delattr__', '__dir__', '__divmod__', '__doc__', '__eq__', '__float__', '__floor__', '__floordiv__', '__format__', '__ge__', '__getattribute__', '__getnewargs__', '__getstate__', '__gt__', '__hash__', '__index__', '__init__', '__init_subclass__', '__int__', '__invert__', '__le__', '__lshift__', '__lt__', '__mod__', '__mul__', '__ne__', '__neg__', '__new__', '__or__', '__pos__', '__pow__', '__radd__', '__rand__', '__rdivmod__', '__reduce__', '__reduce_ex__', '__repr__', '__rfloordiv__', '__rlshift__', '__rmod__', '__rmul__', '__ror__', '__round__', '__rpow__', '__rrshift__', '__rshift__', '__rsub__', '__rtruediv__', '__rxor__', '__setattr__', '__sizeof__', '__str__', '__sub__', '__subclasshook__', '__truediv__', '__trunc__', '__xor__', 'as_integer_ratio', 'bit_count', 'bit_length', 'conjugate', 'denominator', 'from_bytes', 'imag', 'is_integer', 'numerator', 'real', 'to_bytes']\n",
      "['__add__', '__class__', '__contains__', '__delattr__', '__dir__', '__doc__', '__eq__', '__format__', '__ge__', '__getattribute__', '__getitem__', '__getnewargs__', '__getstate__', '__gt__', '__hash__', '__init__', '__init_subclass__', '__iter__', '__le__', '__len__', '__lt__', '__mod__', '__mul__', '__ne__', '__new__', '__reduce__', '__reduce_ex__', '__repr__', '__rmod__', '__rmul__', '__setattr__', '__sizeof__', '__str__', '__subclasshook__', 'capitalize', 'casefold', 'center', 'count', 'encode', 'endswith', 'expandtabs', 'find', 'format', 'format_map', 'index', 'isalnum', 'isalpha', 'isascii', 'isdecimal', 'isdigit', 'isidentifier', 'islower', 'isnumeric', 'isprintable', 'isspace', 'istitle', 'isupper', 'join', 'ljust', 'lower', 'lstrip', 'maketrans', 'partition', 'removeprefix', 'removesuffix', 'replace', 'rfind', 'rindex', 'rjust', 'rpartition', 'rsplit', 'rstrip', 'split', 'splitlines', 'startswith', 'strip', 'swapcase', 'title', 'translate', 'upper', 'zfill']\n"
     ]
    }
   ],
   "source": [
    "## some methods in commin between strings and int\n",
    "# demonstrate polymorphism\n",
    "print(dir(1))\n",
    "print(dir(\"a\"))"
   ]
  },
  {
   "cell_type": "code",
   "execution_count": 18,
   "id": "e8f3657d",
   "metadata": {},
   "outputs": [
    {
     "name": "stdout",
     "output_type": "stream",
     "text": [
      "The device was turned on\n",
      "The device was turned on\n",
      "PortableRadio type object was turned on\n",
      "TvSet type object was turned on\n"
     ]
    }
   ],
   "source": [
    "class Device:\n",
    "    def turn_on(self):\n",
    "        print('The device was turned on')\n",
    "\n",
    "class Radio(Device):\n",
    "    pass\n",
    "\n",
    "class PortableRadio(Device):\n",
    "    def turn_on(self):\n",
    "        print('PortableRadio type object was turned on')\n",
    "\n",
    "class TvSet(Device):\n",
    "    def turn_on(self):\n",
    "        print('TvSet type object was turned on')\n",
    "\n",
    "device = Device()\n",
    "radio = Radio()\n",
    "portableRadio = PortableRadio()\n",
    "tvset = TvSet()\n",
    "\n",
    "for element in (device, radio, portableRadio, tvset):\n",
    "    #polymorphism: all class instances allow the calling of the turn_on() method, \n",
    "    # even when you refer to the objects using the arbitrary variable element\n",
    "    element.turn_on()"
   ]
  },
  {
   "cell_type": "markdown",
   "id": "b2ec5bf9",
   "metadata": {},
   "source": [
    "Summary:\n",
    "- polymorphism is used when different class objects share conceptually similar methods (but are not always inherited)\n",
    "- polymorphism leverages clarity and expressiveness of the application design and development;\n",
    "- when polymorphism is assumed, it is wise to handle exceptions that could pop up.\n"
   ]
  },
  {
   "cell_type": "markdown",
   "id": "506bf508",
   "metadata": {},
   "source": [
    "## Extended function arguments syntax\n",
    "\n",
    "- *args – refers to a tuple of all additional, not explicitly expected positional arguments, so arguments passed without keywords and passed next after the expected arguments. In other words, *args collects all unmatched positional arguments;\n",
    "- **kwargs (keyword arguments) – refers to a dictionary of all unexpected arguments that were passed in the form of keyword=value pairs. Likewise, **kwargs collects all unmatched keyword arguments.\n"
   ]
  },
  {
   "cell_type": "code",
   "execution_count": 28,
   "id": "3145fcbf",
   "metadata": {},
   "outputs": [
    {
     "name": "stdout",
     "output_type": "stream",
     "text": [
      "my_args: (40, 60, 30)\n",
      "my_kwargs {'argument1': 50, 'argument2': '66'}\n",
      "my_args: (1, 1)\n",
      "my_c: 2\n",
      "my_kwargs {'argument1': 1, 'argument2': '1'}\n"
     ]
    }
   ],
   "source": [
    "def combiner(a, b, *args, **kwargs):\n",
    "    super_combiner(*args, **kwargs)\n",
    "\n",
    "def super_combiner(*my_args, **my_kwargs):\n",
    "    print('my_args:', my_args)\n",
    "    print('my_kwargs', my_kwargs)\n",
    "\n",
    "combiner(10, '20', 40, 60, 30, argument1=50, argument2='66')\n",
    "\n",
    "# Adding a keyword\n",
    "def combiner(a, b, *args, c=20, **kwargs):\n",
    "    super_combiner(c, *args, **kwargs)\n",
    "def super_combiner(my_c, *my_args, **my_kwargs):\n",
    "    print('my_args:', my_args)\n",
    "    print('my_c:', my_c)\n",
    "    print('my_kwargs', my_kwargs)\n",
    "combiner(1, '1', 1, 1, c=2, argument1=1, argument2='1')\n",
    "\n"
   ]
  }
 ],
 "metadata": {
  "kernelspec": {
   "display_name": "PCPP1",
   "language": "python",
   "name": "python3"
  },
  "language_info": {
   "codemirror_mode": {
    "name": "ipython",
    "version": 3
   },
   "file_extension": ".py",
   "mimetype": "text/x-python",
   "name": "python",
   "nbconvert_exporter": "python",
   "pygments_lexer": "ipython3",
   "version": "3.12.3"
  }
 },
 "nbformat": 4,
 "nbformat_minor": 5
}
