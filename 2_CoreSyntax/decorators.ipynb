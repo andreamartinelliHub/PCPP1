{
 "cells": [
  {
   "cell_type": "markdown",
   "id": "faab0530",
   "metadata": {},
   "source": [
    "## Decorators\n",
    "\n",
    "Decorators are used to perform operations before and after a call to a wrapped object or even to prevent its execution, depending on the circumstances\n",
    "\n",
    "Decorators are used in:\n",
    "\n",
    "- the validation of arguments;\n",
    "- the modification of arguments;\n",
    "- the modification of returned objects;\n",
    "- the measurement of execution time;\n",
    "- message logging;\n",
    "- thread synchronization;\n",
    "- code refactorization;\n",
    "- caching.\n"
   ]
  },
  {
   "cell_type": "code",
   "execution_count": 2,
   "id": "b054a65d",
   "metadata": {},
   "outputs": [
    {
     "name": "stdout",
     "output_type": "stream",
     "text": [
      "We are about to call \"simple_hello\"\n",
      "Hello from simple function!\n"
     ]
    }
   ],
   "source": [
    "def simple_hello():\n",
    "    print(\"Hello from simple function!\")\n",
    "\n",
    "def simple_decorator(function):\n",
    "    print('We are about to call \"{}\"'.format(function.__name__))\n",
    "    return function\n",
    "\n",
    "decorated = simple_decorator(simple_hello)\n",
    "decorated()\n"
   ]
  },
  {
   "cell_type": "code",
   "execution_count": null,
   "id": "5ef3220f",
   "metadata": {},
   "outputs": [],
   "source": []
  },
  {
   "cell_type": "code",
   "execution_count": null,
   "id": "5fc5c20c",
   "metadata": {},
   "outputs": [],
   "source": []
  }
 ],
 "metadata": {
  "kernelspec": {
   "display_name": "PCPP1",
   "language": "python",
   "name": "python3"
  },
  "language_info": {
   "codemirror_mode": {
    "name": "ipython",
    "version": 3
   },
   "file_extension": ".py",
   "mimetype": "text/x-python",
   "name": "python",
   "nbconvert_exporter": "python",
   "pygments_lexer": "ipython3",
   "version": "3.12.3"
  }
 },
 "nbformat": 4,
 "nbformat_minor": 5
}
