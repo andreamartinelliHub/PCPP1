{
 "cells": [
  {
   "cell_type": "markdown",
   "id": "faab0530",
   "metadata": {},
   "source": [
    "## Decorators\n",
    "\n",
    "Decorators are used to perform operations before and after a call to a wrapped object or even to prevent its execution, depending on the circumstances\n",
    "\n",
    "Decorators are used in:\n",
    "\n",
    "- the validation of arguments;\n",
    "- the modification of arguments;\n",
    "- the modification of returned objects;\n",
    "- the measurement of execution time;\n",
    "- message logging;\n",
    "- thread synchronization;\n",
    "- code refactorization;\n",
    "- caching.\n"
   ]
  },
  {
   "cell_type": "code",
   "execution_count": 3,
   "id": "b054a65d",
   "metadata": {},
   "outputs": [
    {
     "name": "stdout",
     "output_type": "stream",
     "text": [
      "We are about to call \"simple_hello\"\n",
      "Hello from simple function!\n",
      "We are about to call \"simple_hello\"\n",
      "Hello from simple function!\n"
     ]
    }
   ],
   "source": [
    "def simple_hello():\n",
    "    print(\"Hello from simple function!\")\n",
    "\n",
    "def simple_decorator(function):\n",
    "    print(f'We are about to call \"{function.__name__}\"')\n",
    "    return function\n",
    "\n",
    "decorated = simple_decorator(simple_hello)\n",
    "decorated()\n",
    "\n",
    "@simple_decorator\n",
    "def simple_hello():\n",
    "    print(\"Hello from simple function!\")\n",
    "\n",
    "\n",
    "simple_hello()\n",
    "# decorators are very useful for refactoring or debugging the code"
   ]
  },
  {
   "cell_type": "code",
   "execution_count": 4,
   "id": "5ef3220f",
   "metadata": {},
   "outputs": [
    {
     "name": "stdout",
     "output_type": "stream",
     "text": [
      "\"combiner\" was called with the following arguments\n",
      "\t('a', 'b')\n",
      "\t{'exec': 'yes'}\n",
      "\n",
      "\tHello from the decorated function; received arguments: ('a', 'b') {'exec': 'yes'}\n",
      "Decorator is still operating\n"
     ]
    }
   ],
   "source": [
    "# Decorators should be universal\n",
    "def simple_decorator(own_function):\n",
    "\n",
    "    def internal_wrapper(*args, **kwargs):\n",
    "        print('\"{}\" was called with the following arguments'.format(own_function.__name__))\n",
    "        print('\\t{}\\n\\t{}\\n'.format(args, kwargs))\n",
    "        own_function(*args, **kwargs)\n",
    "        print('Decorator is still operating')\n",
    "\n",
    "    return internal_wrapper\n",
    "\n",
    "\n",
    "@simple_decorator\n",
    "def combiner(*args, **kwargs):\n",
    "    print(\"\\tHello from the decorated function; received arguments:\", args, kwargs)\n",
    "\n",
    "combiner('a', 'b', exec='yes')\n"
   ]
  },
  {
   "cell_type": "code",
   "execution_count": 6,
   "id": "5fc5c20c",
   "metadata": {},
   "outputs": [
    {
     "name": "stdout",
     "output_type": "stream",
     "text": [
      "Wrapping items from pack_books with kraft\n",
      "We'll pack books: ('Alice in Wonderland', 'Winnie the Pooh')\n",
      "\n",
      "Wrapping items from pack_toys with foil\n",
      "We'll pack toys: ('doll', 'car')\n",
      "\n",
      "Wrapping items from pack_fruits with cardboard\n",
      "We'll pack fruits: ('plum', 'pear')\n",
      "\n"
     ]
    }
   ],
   "source": [
    "# Decorators with their own attributes\n",
    "def warehouse_decorator(material):\n",
    "    def wrapper(our_function):\n",
    "        def internal_wrapper(*args):\n",
    "            print('Wrapping items from {} with {}'.format(our_function.__name__, material))\n",
    "            our_function(*args)\n",
    "            print()\n",
    "        return internal_wrapper\n",
    "    return wrapper\n",
    "\n",
    "\n",
    "@warehouse_decorator('kraft')\n",
    "def pack_books(*args):\n",
    "    print(\"We'll pack books:\", args)\n",
    "\n",
    "\n",
    "@warehouse_decorator('foil')\n",
    "def pack_toys(*args):\n",
    "    print(\"We'll pack toys:\", args)\n",
    "\n",
    "\n",
    "@warehouse_decorator('cardboard')\n",
    "def pack_fruits(*args):\n",
    "    print(\"We'll pack fruits:\", args)\n",
    "\n",
    "\n",
    "pack_books('Alice in Wonderland', 'Winnie the Pooh')\n",
    "pack_toys('doll', 'car')\n",
    "pack_fruits('plum', 'pear')"
   ]
  },
  {
   "cell_type": "code",
   "execution_count": 12,
   "id": "09028fac",
   "metadata": {},
   "outputs": [
    {
     "name": "stdout",
     "output_type": "stream",
     "text": [
      "Big Container\n",
      "Warehouse Decorator\n",
      "We'll pack books: ('Alice in Wonderland', 'Winnie the Pooh')\n",
      "Wrapping items from pack_books with bubble foil\n",
      "The whole order would be packed with plain cardboard\n",
      "\n",
      "Big Container\n",
      "Warehouse Decorator\n",
      "We'll pack toys: ('doll', 'car')\n",
      "Wrapping items from pack_toys with foil\n",
      "The whole order would be packed with colourful cardboard\n",
      "\n",
      "Big Container\n",
      "Warehouse Decorator\n",
      "We'll pack fruits: ('plum', 'pear')\n",
      "Wrapping items from pack_fruits with cardboard\n",
      "The whole order would be packed with strong cardboard\n",
      "\n"
     ]
    }
   ],
   "source": [
    "# stacking decorators:\n",
    "# equivalent to :\n",
    "# subject_matter_function = outer_decorator(\n",
    "#                                 inner_decorator(\n",
    "#                                     subject_matter_function()\n",
    "#                                     )\n",
    "#                                 )\n",
    "# abcd = subject_matter_function()\n",
    "\n",
    "def big_container(collective_material):\n",
    "    def wrapper(our_function):\n",
    "        def internal_wrapper(*args):\n",
    "            print(\"Big Container\")\n",
    "            our_function(*args)\n",
    "            print('The whole order would be packed with', collective_material)\n",
    "            print()\n",
    "        return internal_wrapper\n",
    "    return wrapper\n",
    "\n",
    "def warehouse_decorator(material):\n",
    "    def wrapper(our_function):\n",
    "        def internal_wrapper(*args):\n",
    "            print(\"Warehouse Decorator\")\n",
    "            our_function(*args)\n",
    "            print('Wrapping items from {} with {}'.format(our_function.__name__, material))\n",
    "        return internal_wrapper\n",
    "    return wrapper\n",
    "\n",
    "@big_container('plain cardboard') # outer\n",
    "@warehouse_decorator('bubble foil') # inner\n",
    "def pack_books(*args):\n",
    "    print(\"We'll pack books:\", args)\n",
    "\n",
    "@big_container('colourful cardboard')\n",
    "@warehouse_decorator('foil')\n",
    "def pack_toys(*args):\n",
    "    print(\"We'll pack toys:\", args)\n",
    "\n",
    "@big_container('strong cardboard')\n",
    "@warehouse_decorator('cardboard')\n",
    "def pack_fruits(*args):\n",
    "    print(\"We'll pack fruits:\", args)\n",
    "\n",
    "\n",
    "pack_books('Alice in Wonderland', 'Winnie the Pooh')\n",
    "pack_toys('doll', 'car')\n",
    "pack_fruits('plum', 'pear')\n"
   ]
  },
  {
   "cell_type": "code",
   "execution_count": 16,
   "id": "be052783",
   "metadata": {},
   "outputs": [
    {
     "name": "stdout",
     "output_type": "stream",
     "text": [
      "20\n",
      "9\n",
      "2025-09-06 11:32:16\n",
      "20\n",
      "2025-09-06 11:32:17\n",
      "9\n"
     ]
    }
   ],
   "source": [
    "# TASK\n",
    "from datetime import datetime\n",
    "import time\n",
    "\n",
    "def time_decorator(function):\n",
    "    def wrapper(*args):\n",
    "        timestamp = datetime.now()\n",
    "        string_timestamp = timestamp.strftime('%Y-%m-%d %H:%M:%S')\n",
    "        print(string_timestamp)\n",
    "        function(*args)\n",
    "        time.sleep(1)\n",
    "    return wrapper\n",
    "    \n",
    "def multiply(a,b):\n",
    "    print(a*b)\n",
    "\n",
    "def adding(a,b):\n",
    "    print(a+b)\n",
    "\n",
    "multiply(5,4)\n",
    "adding(4,5)\n",
    "\n",
    "@time_decorator\n",
    "def multiply(a,b):\n",
    "    print(a*b)\n",
    "\n",
    "@time_decorator\n",
    "def adding(a,b):\n",
    "    print(a+b)\n",
    "\n",
    "multiply(5,4)\n",
    "adding(4,5)\n"
   ]
  },
  {
   "cell_type": "code",
   "execution_count": null,
   "id": "43908b2c",
   "metadata": {},
   "outputs": [
    {
     "name": "stdout",
     "output_type": "stream",
     "text": [
      "\"combiner\" was called with the following arguments\n",
      "\t('a', 'b')\n",
      "\t{'exec': 'yes'}\n",
      "\n",
      "\tHello from the decorated function; received arguments: ('a', 'b') {'exec': 'yes'}\n",
      "Decorator is still operating\n"
     ]
    }
   ],
   "source": [
    "# DECORATOR COULD BE A CLASS\n",
    "# classes bring all the subsidiarity they can offer, \n",
    "# like inheritance and the ability to create dedicated supportive methods\n",
    "class SimpleDecorator:\n",
    "    def __init__(self, own_function):\n",
    "        self.func = own_function\n",
    "\n",
    "    def __call__(self, *args, **kwargs): # to call a function\n",
    "        print('\"{}\" was called with the following arguments'.format(self.func.__name__))\n",
    "        print('\\t{}\\n\\t{}\\n'.format(args, kwargs))\n",
    "        self.func(*args, **kwargs) # in this case, self.func\n",
    "        print('Decorator is still operating')\n",
    "\n",
    "\n",
    "@SimpleDecorator\n",
    "def combiner(*args, **kwargs):\n",
    "    print(\"\\tHello from the decorated function; received arguments:\", args, kwargs)\n",
    "\n",
    "\n",
    "combiner('a', 'b', exec='yes')\n"
   ]
  },
  {
   "cell_type": "code",
   "execution_count": 19,
   "id": "0c773041",
   "metadata": {},
   "outputs": [
    {
     "name": "stdout",
     "output_type": "stream",
     "text": [
      "Wrapping items from pack_books with kraft\n",
      "We'll pack books: ('Alice in Wonderland', 'Winnie the Pooh')\n",
      "\n",
      "Wrapping items from pack_toys with foil\n",
      "We'll pack toys: ('doll', 'car')\n",
      "\n",
      "Wrapping items from pack_fruits with cardboard\n",
      "We'll pack fruits: ('plum', 'pear')\n",
      "\n"
     ]
    }
   ],
   "source": [
    "class WarehouseDecorator:\n",
    "    def __init__(self, material):\n",
    "        self.material = material\n",
    "\n",
    "    def __call__(self, own_function):\n",
    "        def internal_wrapper(*args, **kwargs):\n",
    "            print('Wrapping items from {} with {}'.format(own_function.__name__, self.material))\n",
    "            own_function(*args, **kwargs)\n",
    "            print()\n",
    "        return internal_wrapper\n",
    "\n",
    "\n",
    "@WarehouseDecorator('kraft')\n",
    "def pack_books(*args):\n",
    "    print(\"We'll pack books:\", args)\n",
    "\n",
    "\n",
    "@WarehouseDecorator('foil')\n",
    "def pack_toys(*args):\n",
    "    print(\"We'll pack toys:\", args)\n",
    "\n",
    "\n",
    "@WarehouseDecorator('cardboard')\n",
    "def pack_fruits(*args):\n",
    "    print(\"We'll pack fruits:\", args)\n",
    "\n",
    "\n",
    "pack_books('Alice in Wonderland', 'Winnie the Pooh')\n",
    "pack_toys('doll', 'car')\n",
    "pack_fruits('plum', 'pear')\n"
   ]
  },
  {
   "cell_type": "code",
   "execution_count": 20,
   "id": "186e3cc8",
   "metadata": {},
   "outputs": [
    {
     "name": "stdout",
     "output_type": "stream",
     "text": [
      "We noticed that the mileage attribute was read\n",
      "The mileage is 0\n",
      "The VIN is ABC123\n"
     ]
    }
   ],
   "source": [
    "# let's create a function that will decorate a class with a method \n",
    "# that issues alerts whenever the 'mileage' attribute is read.\n",
    "def object_counter(class_):\n",
    "    class_.__getattr__orig = class_.__getattribute__ # store the original get attribute method\n",
    "\n",
    "    def new_getattr(self, name): # define the new getattr\n",
    "        if name == 'mileage':\n",
    "            print('We noticed that the mileage attribute was read')\n",
    "        return class_.__getattr__orig(self, name)\n",
    "\n",
    "    # store the new get attr, to be called in place of the originalone \n",
    "    class_.__getattribute__ = new_getattr \n",
    "    return class_\n",
    "\n",
    "@object_counter\n",
    "class Car:\n",
    "    def __init__(self, VIN):\n",
    "        self.mileage = 0\n",
    "        self.VIN = VIN\n",
    "\n",
    "car = Car('ABC123')\n",
    "print('The mileage is', car.mileage)\n",
    "print('The VIN is', car.VIN)\n",
    "\n",
    "\n"
   ]
  }
 ],
 "metadata": {
  "kernelspec": {
   "display_name": "PCPP1",
   "language": "python",
   "name": "python3"
  },
  "language_info": {
   "codemirror_mode": {
    "name": "ipython",
    "version": 3
   },
   "file_extension": ".py",
   "mimetype": "text/x-python",
   "name": "python",
   "nbconvert_exporter": "python",
   "pygments_lexer": "ipython3",
   "version": "3.12.3"
  }
 },
 "nbformat": 4,
 "nbformat_minor": 5
}
