{
 "cells": [
  {
   "cell_type": "markdown",
   "id": "2e1fe98b",
   "metadata": {},
   "source": [
    "The 'pickle' module is a very popular and convinient module for data serialization in the world of Pythonistas.\n",
    "\n",
    "So, what can be pickled and then unpickled?\n",
    "\n",
    "The following types can be pickled:\n",
    "\n",
    "- None, booleans;\n",
    "- integers, floating-point numbers, complex numbers;\n",
    "- strings, bytes, bytearrays;\n",
    "- tuples, lists, sets, and dictionaries containing pickleable objects;\n",
    "- objects, including objects with references to other objects (remember to avoid cycles!)\n",
    "- references to functions and classes, but not their definitions.\n"
   ]
  },
  {
   "cell_type": "code",
   "execution_count": 4,
   "id": "9ac0a48d",
   "metadata": {},
   "outputs": [
    {
     "name": "stdout",
     "output_type": "stream",
     "text": [
      "<class 'dict'>\n",
      "{'EUR': {'code': 'Euro', 'symbol': '€'}, 'GBP': {'code': 'Pounds sterling', 'symbol': '£'}, 'USD': {'code': 'US dollar', 'symbol': '$'}, 'JPY': {'code': 'Japanese yen', 'symbol': '¥'}}\n",
      "<class 'list'>\n",
      "['a', 123, [10, 100, 1000]]\n"
     ]
    }
   ],
   "source": [
    "import pickle\n",
    "\n",
    "a_dict = dict()\n",
    "a_dict['EUR'] = {'code':'Euro', 'symbol': '€'}\n",
    "a_dict['GBP'] = {'code':'Pounds sterling', 'symbol': '£'}\n",
    "a_dict['USD'] = {'code':'US dollar', 'symbol': '$'}\n",
    "a_dict['JPY'] = {'code':'Japanese yen', 'symbol': '¥'}\n",
    "\n",
    "a_list = ['a', 123, [10, 100, 1000]]\n",
    "\n",
    "with open('multidata.pckl', 'wb') as file_out:\n",
    "    pickle.dump(a_dict, file_out)\n",
    "    pickle.dump(a_list, file_out)\n",
    "\n",
    "with open(\"multidata.pckl\", \"rb\") as f:\n",
    "    data1 = pickle.load(f)\n",
    "    data2 = pickle.load(f)\n",
    "\n",
    "print(type(data1))\n",
    "print(data1)\n",
    "print(type(data2))\n",
    "print(data2)\n"
   ]
  },
  {
   "cell_type": "markdown",
   "id": "06f87dff",
   "metadata": {},
   "source": [
    "At the beginning of the serialization module, we mentioned that serialized objects could be persisted in a database or sent via a network. This implies another two functions corresponding to the pickle.dumps() and pickle.loads() functions:\n",
    "- pickle.dumps(object_to_be_pickled) – expects an initial object, returns a byte object. This byte object should be passed to a database or network driver to persist the data;\n",
    "- pickle.loads(bytes_object) – expects the bytes object, returns the initial object.\n",
    "\n",
    "An example of in situ serialization and deserialization is presented in the right pane. "
   ]
  },
  {
   "cell_type": "code",
   "execution_count": 5,
   "metadata": {},
   "outputs": [
    {
     "name": "stdout",
     "output_type": "stream",
     "text": [
      "Intermediate object type, used to preserve data: <class 'bytes'>\n",
      "A type of deserialized object: <class 'list'>\n",
      "Contents: ['a', 123, [10, 100, 1000]]\n"
     ]
    }
   ],
   "source": [
    "import pickle\n",
    "\n",
    "a_list = ['a', 123, [10, 100, 1000]]\n",
    "bytes = pickle.dumps(a_list)\n",
    "print('Intermediate object type, used to preserve data:', type(bytes))\n",
    "\n",
    "# now pass 'bytes' to appropriate driver\n",
    "\n",
    "# therefore when you receive a bytes object from an appropriate driver you can deserialize it\n",
    "b_list = pickle.loads(bytes)\n",
    "print('A type of deserialized object:', type(b_list))\n",
    "print('Contents:', b_list)"
   ]
  },
  {
   "cell_type": "markdown",
   "id": "60e1aad5",
   "metadata": {},
   "source": [
    "Trying to pickle a highly recursive data structure (mind the cycles) may exceed the maximum recursion depth, and a RecursionError exception will be raised in such cases.\n",
    "\n",
    "Your role is to ensure that the environment where the class or function is unpickled is able to import the class or function definition. In other words, the function or class must be available in the namespace of your code reading the pickle file.\n",
    "\n",
    "Otherwise, an AtrributeError exception will be raised.\n",
    "\n",
    "The code that calls the load() or loads() functions of pickle should already know the function/class definition."
   ]
  },
  {
   "cell_type": "markdown",
   "id": "f3bc6c8e",
   "metadata": {},
   "source": [
    "There is another handy module, called shelve, that is built on top of pickle, and implements a serialization dictionary where objects are pickled and associated with a key. The keys must be ordinary strings, because the underlying database (dbm) requires strings. \n",
    "\n",
    "This could be more convenient for you when you’re serializing many objects."
   ]
  },
  {
   "cell_type": "code",
   "execution_count": null,
   "id": "97f6c7d2",
   "metadata": {},
   "outputs": [
    {
     "name": "stdout",
     "output_type": "stream",
     "text": [
      "{'code': 'Euro', 'symbol': '€'}\n"
     ]
    }
   ],
   "source": [
    "import shelve\n",
    "\n",
    "shelve_name = 'first_shelve.shlv'\n",
    "\n",
    "my_shelve = shelve.open(shelve_name, flag='c')\n",
    "# r: open existing database for read-only\n",
    "# w: open existing database for read-write\n",
    "# c: open database for read-write and create if not existing\n",
    "# n: open new empty database for read-write\n",
    "\n",
    "my_shelve['EUR'] = {'code':'Euro', 'symbol': '€'}\n",
    "my_shelve['GBP'] = {'code':'Pounds sterling', 'symbol': '£'}\n",
    "my_shelve['USD'] = {'code':'US dollar', 'symbol': '$'}\n",
    "my_shelve['JPY'] = {'code':'Japanese yen', 'symbol': '¥'}\n",
    "my_shelve.close()\n",
    "\n",
    "new_shelve = shelve.open(shelve_name)\n",
    "print(new_shelve['EUR'])\n",
    "new_shelve.close()"
   ]
  },
  {
   "cell_type": "markdown",
   "id": "ab7d7f9d",
   "metadata": {},
   "source": [
    "ou should treat a shelve object as a Python dictionary, with a few additional notes:\n",
    "\n",
    "- the keys must be strings;\n",
    "- Python puts the changes in a buffer which is periodically flushed to the disk. To enforce an immediate flush, call the sync() method on your shelve object;\n",
    "- when you call the close() method on an shelve object, it also flushes the buffers.\n"
   ]
  },
  {
   "cell_type": "markdown",
   "id": "0c86d582",
   "metadata": {},
   "source": [
    "Because the shelve module is backed by pickle, \n",
    "it isn’t safe to load a shelve from an untrusted source. \n",
    "\n",
    "As with pickle, loading a shelve can execute arbitrary code."
   ]
  }
 ],
 "metadata": {
  "kernelspec": {
   "display_name": "PCPP1",
   "language": "python",
   "name": "python3"
  },
  "language_info": {
   "codemirror_mode": {
    "name": "ipython",
    "version": 3
   },
   "file_extension": ".py",
   "mimetype": "text/x-python",
   "name": "python",
   "nbconvert_exporter": "python",
   "pygments_lexer": "ipython3",
   "version": "3.12.3"
  }
 },
 "nbformat": 4,
 "nbformat_minor": 5
}
