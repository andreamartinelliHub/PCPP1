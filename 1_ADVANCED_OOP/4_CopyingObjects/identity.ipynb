{
 "cells": [
  {
   "cell_type": "code",
   "execution_count": null,
   "id": "9d747f5b",
   "metadata": {},
   "outputs": [
    {
     "name": "stdout",
     "output_type": "stream",
     "text": [
      "a_string identity: 139200561932912\n",
      "b_string identity: 139200561937776\n",
      "a_string identity: 139200561935600\n",
      "b_string identity: 139200561935600\n"
     ]
    }
   ],
   "source": [
    "a_string = '10 days to departure'\n",
    "b_string = '20 days to departure'\n",
    "\n",
    "print('a_string identity:', id(a_string))\n",
    "print('b_string identity:', id(b_string))\n",
    "\n",
    "a_string = '10 days to departure'\n",
    "b_string = a_string\n",
    "#In this example, we haven’t created a new list, \n",
    "# but just created a new label that references the already created list\n",
    "print('a_string identity:', id(a_string))\n",
    "print('b_string identity:', id(b_string))\n"
   ]
  },
  {
   "cell_type": "code",
   "execution_count": null,
   "metadata": {},
   "outputs": [
    {
     "name": "stdout",
     "output_type": "stream",
     "text": [
      "a_string identity: 139200561814336\n",
      "b_string identity: 139200561814336\n",
      "The result of the value comparison: True\n",
      "The result of the identity comparison: True\n",
      "\n",
      "a_string identity: 139200561815232\n",
      "b_string identity: 139200561814528\n",
      "The result of the value comparison: True\n",
      "The result of the identity comparison: False\n"
     ]
    }
   ],
   "source": [
    "a_string = ['10', 'days', 'to', 'departure']\n",
    "b_string = a_string\n",
    "\n",
    "print('a_string identity:', id(a_string))\n",
    "print('b_string identity:', id(b_string))\n",
    "print('The result of the value comparison:', a_string == b_string)\n",
    "print('The result of the identity comparison:', a_string is b_string)\n",
    "\n",
    "print()\n",
    "# '==' compares the values of both operands and checks for value equality\n",
    "# 'is' “Are both variables referring to the same identity?” (same memory chunk?)\n",
    "\n",
    "a_string = ['10', 'days', 'to', 'departure']\n",
    "b_string = ['10', 'days', 'to', 'departure']\n",
    "\n",
    "print('a_string identity:', id(a_string))\n",
    "print('b_string identity:', id(b_string))\n",
    "print('The result of the value comparison:', a_string == b_string)\n",
    "print('The result of the identity comparison:', a_string is b_string)\n"
   ]
  },
  {
   "cell_type": "code",
   "execution_count": null,
   "metadata": {},
   "outputs": [
    {
     "name": "stdout",
     "output_type": "stream",
     "text": [
      "Part 1\n",
      "Let's make a copy\n",
      "a_list contents: [10, 'banana', [997, 123]]\n",
      "b_list contents: [10, 'banana', [997, 123]]\n",
      "Is it the same object? False\n",
      "\n",
      "Part 2\n",
      "Let's modify b_list[2]\n",
      "a_list contents: [10, 'banana', [112, 123]]\n",
      "b_list contents: [10, 'banana', [112, 123]]\n",
      "Is it the same object? False\n"
     ]
    }
   ],
   "source": [
    "# you may want to have distinct copies of objects that you can modify \n",
    "# without automatically modifying the original at the same time\n",
    "print(\"Part 1\")\n",
    "print(\"Let's make a copy\")\n",
    "a_list = [10, \"banana\", [997, 123]]\n",
    "b_list = a_list[:]\n",
    "print(\"a_list contents:\", a_list)\n",
    "print(\"b_list contents:\", b_list)\n",
    "print(\"Is it the same object?\", a_list is b_list)\n",
    "\n",
    "print()\n",
    "print(\"Part 2\")\n",
    "print(\"Let's modify b_list[2]\")\n",
    "b_list[2][0] = 112\n",
    "print(\"a_list contents:\", a_list)\n",
    "print(\"b_list contents:\", b_list)\n",
    "print(\"Is it the same object?\", a_list is b_list)\n",
    "# A list is a compound object and a shallow copy is only one level deep"
   ]
  },
  {
   "cell_type": "code",
   "execution_count": null,
   "id": "8bb90f7a",
   "metadata": {},
   "outputs": [
    {
     "name": "stdout",
     "output_type": "stream",
     "text": [
      "Let's make a deep copy\n",
      "a_list contents: [10, 'banana', [997, 123]]\n",
      "b_list contents: [10, 'banana', [997, 123]]\n",
      "Is it the same object? False\n",
      "\n",
      "Let's modify b_list[2]\n",
      "a_list contents: [10, 'banana', [997, 123]]\n",
      "b_list contents: [10, 'banana', [112, 123]]\n",
      "Is it the same object? False\n"
     ]
    }
   ],
   "source": [
    "# DEEP COPY\n",
    "import copy\n",
    "\n",
    "# copy.copy(*) is still shallow copy:\n",
    "# and it is a universal function, useful for polymorphism\n",
    "\n",
    "print(\"Let's make a deep copy\")\n",
    "a_list = [10, \"banana\", [997, 123]]\n",
    "b_list = copy.deepcopy(a_list)\n",
    "print(\"a_list contents:\", a_list)\n",
    "print(\"b_list contents:\", b_list)\n",
    "print(\"Is it the same object?\", a_list is b_list)\n",
    "\n",
    "print()\n",
    "print(\"Let's modify b_list[2]\")\n",
    "b_list[2][0] = 112\n",
    "print(\"a_list contents:\", a_list)\n",
    "print(\"b_list contents:\", b_list)\n",
    "print(\"Is it the same object?\", a_list is b_list)\n"
   ]
  },
  {
   "cell_type": "code",
   "execution_count": 7,
   "id": "1681f93e",
   "metadata": {},
   "outputs": [
    {
     "name": "stdout",
     "output_type": "stream",
     "text": [
      "Single reference copy\n",
      "Execution time: 0.0\n",
      "Memory chunks: 139200561934144 139200561934144\n",
      "Same memory chunk? True\n",
      "\n",
      "Shallow copy\n",
      "Execution time: 0.026\n",
      "Memory chunks: 139200561934144 139200562040640\n",
      "Same memory chunk? False\n",
      "\n",
      "Deep copy\n",
      "Execution time: 8.943\n",
      "Memory chunks: 139200561934144 139200561712640\n",
      "Same memory chunk? False\n"
     ]
    }
   ],
   "source": [
    "# TIME PERFORMANCE\n",
    "import copy\n",
    "import time\n",
    "\n",
    "a_list = [(1,2,3) for x in range(1_000_000)]\n",
    "\n",
    "print('Single reference copy')\n",
    "time_start = time.time()\n",
    "b_list = a_list\n",
    "print('Execution time:', round(time.time() - time_start, 3))\n",
    "print('Memory chunks:', id(a_list), id(b_list))\n",
    "print('Same memory chunk?', a_list is b_list)\n",
    "\n",
    "print()\n",
    "\n",
    "print('Shallow copy')\n",
    "time_start = time.time()\n",
    "b_list = a_list[:]\n",
    "print('Execution time:', round(time.time() - time_start, 3))\n",
    "print('Memory chunks:', id(a_list), id(b_list))\n",
    "print('Same memory chunk?', a_list is b_list)\n",
    "\n",
    "print()\n",
    "\n",
    "print('Deep copy')\n",
    "time_start = time.time()\n",
    "b_list = copy.deepcopy(a_list)\n",
    "print('Execution time:', round(time.time() - time_start, 3))\n",
    "print('Memory chunks:', id(a_list), id(b_list))\n",
    "print('Same memory chunk?', a_list is b_list)\n"
   ]
  },
  {
   "cell_type": "code",
   "execution_count": 8,
   "id": "8a9f9de6",
   "metadata": {},
   "outputs": [
    {
     "name": "stdout",
     "output_type": "stream",
     "text": [
      "Memory chunks: 139200562102464 139200562103616\n",
      "Same memory chunk? False\n",
      "Let's modify the movies list\n",
      "a_dict movies: ['Goldfinger (1964)', 'You Only Live Twice', 'Diamonds Are Forever (1971)']\n",
      "b_dict movies: ['Goldfinger (1964)', 'You Only Live Twice']\n"
     ]
    }
   ],
   "source": [
    "# DICT AND CUSTOM OBJECTS\n",
    "import copy\n",
    "\n",
    "a_dict = {\n",
    "    'first name': 'James',\n",
    "    'last name': 'Bond',\n",
    "    'movies': ['Goldfinger (1964)', 'You Only Live Twice']\n",
    "    }\n",
    "b_dict = copy.deepcopy(a_dict)\n",
    "print('Memory chunks:', id(a_dict), id(b_dict))\n",
    "print('Same memory chunk?', a_dict is b_dict)\n",
    "print(\"Let's modify the movies list\")\n",
    "a_dict['movies'].append('Diamonds Are Forever (1971)')\n",
    "print('a_dict movies:', a_dict['movies'])\n",
    "print('b_dict movies:', b_dict['movies'])\n"
   ]
  },
  {
   "cell_type": "code",
   "execution_count": 9,
   "id": "6c343ff8",
   "metadata": {},
   "outputs": [
    {
     "name": "stdout",
     "output_type": "stream",
     "text": [
      "Hello from __init__()\n",
      "Memory chunks: 139200567394672 139200562012544\n",
      "Same memory chunk? False\n",
      "\n",
      "Let's modify the movies list\n",
      "a_example.properties: ['112', '997']\n",
      "b_example.properties: ['112', '997', '911']\n"
     ]
    }
   ],
   "source": [
    "# COPYING OBJECT AND INTERACTION WITH __INIT__\n",
    "import copy\n",
    "\n",
    "class Example:\n",
    "    def __init__(self):\n",
    "        self.properties = [\"112\", \"997\"]\n",
    "        print(\"Hello from __init__()\")\n",
    "\n",
    "a_example = Example()\n",
    "b_example = copy.deepcopy(a_example)\n",
    "print(\"Memory chunks:\", id(a_example), id(b_example))\n",
    "print(\"Same memory chunk?\", a_example is b_example)\n",
    "print()\n",
    "print(\"Let's modify the movies list\")\n",
    "b_example.properties.append(\"911\")\n",
    "print('a_example.properties:', a_example.properties)\n",
    "print('b_example.properties:', b_example.properties)\n"
   ]
  },
  {
   "cell_type": "markdown",
   "id": "c48ff5f0",
   "metadata": {},
   "source": [
    "\n",
    "\n",
    "- Your task is to write a code that will prepare a proposal of reduced prices for the candies whose total weight exceeds 300 units of weight (we don’t care whether those are kilograms or pounds)\n",
    "- Your input is a list of dictionaries; each dictionary represents one type of candy.- Each type of candy contains a key entitled 'weight', which should lead you to the total weight details of the given delicacy. The input is presented in the editor;\n",
    "- Prepare a copy of the source list (this should be done with a one-liner) and then iterate over it to reduce the price of each delicacy by 20% if its weight exceeds the value of 300;\n",
    "- Present an original list of candies and a list that contains the proposals;\n",
    "- Check if your code works correctly when copying and modifying the candy item details."
   ]
  },
  {
   "cell_type": "code",
   "execution_count": null,
   "id": "9d6f7b43",
   "metadata": {},
   "outputs": [],
   "source": [
    "warehouse = list()\n",
    "warehouse.append({'name': 'Lolly Pop', 'price': 0.4, 'weight': 133})\n",
    "warehouse.append({'name': 'Licorice', 'price': 0.1, 'weight': 251})\n",
    "warehouse.append({'name': 'Chocolate', 'price': 1, 'weight': 601})\n",
    "warehouse.append({'name': 'Sours', 'price': 0.01, 'weight': 513})\n",
    "warehouse.append({'name': 'Hard candies', 'price': 0.3, 'weight': 433})\n",
    "\n",
    "print('Source list of candies')\n",
    "for item in warehouse:\n",
    "    print(item)\n",
    "\n",
    "print('******************')\n",
    "import copy\n",
    "proposal = copy.deepcopy(warehouse)\n",
    "for item in proposal:\n",
    "    if item[\"weight\"]>300:\n",
    "        item[\"price\"] *= 0.8\n",
    "    print(item)"
   ]
  },
  {
   "cell_type": "code",
   "execution_count": null,
   "id": "0fcd1e2a",
   "metadata": {},
   "outputs": [
    {
     "name": "stdout",
     "output_type": "stream",
     "text": [
      "\n",
      "ID: 139200317844576\n",
      "Name: 139200561794576             \n",
      "Price: 11760808\n",
      "Weight: 11760680\n",
      "\n",
      "ID: 139200317844576\n",
      "Name: 139200561794576             \n",
      "Price: 11760808\n",
      "Weight: 11760680\n",
      "\n",
      "ID: 139200562165856\n",
      "Name: 139200561794576             \n",
      "Price: 11760808\n",
      "Weight: 11760680\n",
      "\n",
      "ID: 139200562162208\n",
      "Name: 139200561794576             \n",
      "Price: 11760808\n",
      "Weight: 11760680\n"
     ]
    }
   ],
   "source": [
    "class Delicacy:\n",
    "    def __init__(self, name, price, weight):\n",
    "        self.name = name\n",
    "        self.price = price\n",
    "        self.weight = weight\n",
    "    \n",
    "    def __str__(self):\n",
    "        return f\"\\nID: {id(self)}\\nName: {id(self.name)} \\\n",
    "            \\nPrice: {id(self.price)}\\nWeight: {id(self.weight)}\"\n",
    "\n",
    "d1 = Delicacy(\"Beef\", 5, 1)\n",
    "print(d1)\n",
    "\n",
    "d2 = d1\n",
    "print(d2)\n",
    "d2 = copy.copy(d1)\n",
    "print(d2)\n",
    "d2 = copy.deepcopy(d1)\n",
    "print(d2)"
   ]
  },
  {
   "cell_type": "markdown",
   "id": "fff2a96a",
   "metadata": {},
   "source": [
    "***Section summary***\n",
    "\n",
    "Important things to remember:\n",
    "\n",
    "- the deepcopy() method creates and persists new instances of source objects, whereas any shallow copy operation only stores references to the original memory address;\n",
    "- a deep copy operation takes significantly more time than any shallow copy operation;\n",
    "- the deepcopy() method copies the whole object, including all nested objects; it’s an example of practical recursion taking place;\n",
    "- deep copy might cause problems when there are cyclic references in the structure to be copied.\n"
   ]
  }
 ],
 "metadata": {
  "kernelspec": {
   "display_name": "PCPP1",
   "language": "python",
   "name": "python3"
  },
  "language_info": {
   "codemirror_mode": {
    "name": "ipython",
    "version": 3
   },
   "file_extension": ".py",
   "mimetype": "text/x-python",
   "name": "python",
   "nbconvert_exporter": "python",
   "pygments_lexer": "ipython3",
   "version": "3.12.3"
  }
 },
 "nbformat": 4,
 "nbformat_minor": 5
}
