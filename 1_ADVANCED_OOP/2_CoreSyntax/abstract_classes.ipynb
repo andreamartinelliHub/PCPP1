{
 "cells": [
  {
   "cell_type": "markdown",
   "id": "29c48057",
   "metadata": {},
   "source": [
    "## ABSTRACT CLASS\n",
    "An abstract class should be considered a blueprint for other classes, a kind of contract between a class designer and a programmer:\n",
    "\n",
    "- the class designer sets requirements regarding methods that must be implemented by just declaring them, but not defining them in detail. Such methods are called *abstract methods*.\n",
    "- The programmer has to deliver all method definitions and the completeness would be validated by another, dedicated module. The programmer delivers the method definitions by overriding the method declarations received from the class designer.\n"
   ]
  },
  {
   "cell_type": "code",
   "execution_count": 5,
   "id": "7403b834",
   "metadata": {},
   "outputs": [
    {
     "name": "stdout",
     "output_type": "stream",
     "text": [
      "Welcome to Green Field!\n"
     ]
    }
   ],
   "source": [
    "import abc # Abstract Base Classes (ABC)\n",
    "\n",
    "class BluePrint(abc.ABC):\n",
    "\n",
    "    @abc.abstractmethod\n",
    "    def hello(self):\n",
    "        pass\n",
    "\n",
    "class GreenField(BluePrint):\n",
    "    def hello(self):\n",
    "        print('Welcome to Green Field!')\n",
    "\n",
    "# When the base class provides more abstract methods, \n",
    "# all of them must be overridden in a subclass \n",
    "# before the subclass can be instantiated.\n",
    "\n",
    "gf = GreenField()\n",
    "gf.hello()\n",
    "\n",
    "# bp = BluePrint()"
   ]
  },
  {
   "cell_type": "markdown",
   "id": "6d88efee",
   "metadata": {},
   "source": [
    "**Multiple inheritance**\n",
    "\n",
    "When you plan to implement a multiple inheritance from abstract classes, remember that an effective subclass should override all abstract methods inherited from its super classes"
   ]
  },
  {
   "cell_type": "markdown",
   "id": "872f55da",
   "metadata": {},
   "source": [
    "Scenario\n",
    "\n",
    "- You are about to create a multifunction device (MFD) that can scan and print documents;\n",
    "- the system consists of a scanner and a printer;\n",
    "- your task is to create blueprints for it and deliver the implementations;\n",
    "- create an abstract class representing a scanner that enforces the following methods:\n",
    "        - scan_document – returns a string indicating that the document has been scanned;\n",
    "        - get_scanner_status – returns information about the scanner (max. resolution, serial number)\n",
    "- Create an abstract class representing a printer that enforces the following methods:\n",
    "\n",
    "        - print_document – returns a string indicating that the document has been printed;\n",
    "\n",
    "        - get_printer_status – returns information about the printer (max. resolution, serial number)\n",
    "\n",
    "- Create MFD1, MFD2 and MFD3 classes that inherit the abstract classes responsible for scanning and printing:\n",
    "\n",
    "        - MFD1 – should be a cheap device, made of a cheap printer and a cheap scanner, so device capabilities (resolution) should be low;\n",
    "\n",
    "        - MFD2 – should be a medium-priced device allowing additional operations like printing operation history, and the resolution is better than the lower-priced device;\n",
    "        \n",
    "        - MFD3 – should be a premium device allowing additional operations like printing operation history and fax machine.\n",
    "- Instantiate MFD1, MFD2 and MFD3 to demonstrate their abilities. All devices should be capable of serving generic feature sets.\n"
   ]
  },
  {
   "cell_type": "code",
   "execution_count": 4,
   "id": "d69c688b",
   "metadata": {},
   "outputs": [
    {
     "name": "stdout",
     "output_type": "stream",
     "text": [
      "\n",
      "The document is SCANNED\n",
      "Max Resolution = 480p; Serial Number = 123\n",
      "The document is PRINTED\n",
      "Max Resolution = 480p; Serial Number = abc\n",
      "\n",
      "The document is SCANNED\n",
      "Max Resolution = 1080p; Serial Number = 1234\n",
      "The document is PRINTED\n",
      "Max Resolution = 1080p; Serial Number = abcd\n",
      "\n",
      "The document is SCANNED\n",
      "Max Resolution = 1440p; Serial Number = 12345\n",
      "The document is PRINTED\n",
      "Max Resolution = 1440p; Serial Number = abcde\n"
     ]
    }
   ],
   "source": [
    "import abc\n",
    "\n",
    "class Scanner(abc.ABC):\n",
    "        \n",
    "    @abc.abstractmethod\n",
    "    def scan_document(self):\n",
    "        pass\n",
    "\n",
    "    @abc.abstractmethod\n",
    "    def get_scanner_status(self):\n",
    "        pass\n",
    "\n",
    "class Printer(abc.ABC):\n",
    "        \n",
    "    @abc.abstractmethod\n",
    "    def print_document(self):\n",
    "        pass\n",
    "\n",
    "    @abc.abstractmethod\n",
    "    def get_printer_status(self):\n",
    "        pass\n",
    "\n",
    "class MFD1(Scanner, Printer):\n",
    "    def scan_document(self):\n",
    "        print(\"The document is SCANNED\")\n",
    "    def get_scanner_status(self):\n",
    "        print(\"Max Resolution = 480p; Serial Number = 123\")\n",
    "    def print_document(self):\n",
    "        print(\"The document is PRINTED\")\n",
    "    def get_printer_status(self):\n",
    "        print(\"Max Resolution = 480p; Serial Number = abc\")\n",
    "\n",
    "class MFD2(Scanner, Printer):\n",
    "    def scan_document(self):\n",
    "        print(\"The document is SCANNED\")\n",
    "    def get_scanner_status(self):\n",
    "        print(\"Max Resolution = 1080p; Serial Number = 1234\")\n",
    "    def print_document(self):\n",
    "        print(\"The document is PRINTED\")\n",
    "    def get_printer_status(self):\n",
    "        print(\"Max Resolution = 1080p; Serial Number = abcd\")\n",
    "\n",
    "class MFD3(Scanner, Printer):\n",
    "    def scan_document(self):\n",
    "        print(\"The document is SCANNED\")\n",
    "    def get_scanner_status(self):\n",
    "        print(\"Max Resolution = 1440p; Serial Number = 12345\")\n",
    "    def print_document(self):\n",
    "        print(\"The document is PRINTED\")\n",
    "    def get_printer_status(self):\n",
    "        print(\"Max Resolution = 1440p; Serial Number = abcde\")\n",
    "\n",
    "mfd1 = MFD1()\n",
    "mfd2 = MFD2()\n",
    "mfd3 = MFD3()\n",
    "\n",
    "for dev in mfd1,mfd2,mfd3:\n",
    "    print()\n",
    "    dev.scan_document()\n",
    "    dev.get_scanner_status()\n",
    "    dev.print_document()\n",
    "    dev.get_printer_status()"
   ]
  }
 ],
 "metadata": {
  "kernelspec": {
   "display_name": "PCPP1",
   "language": "python",
   "name": "python3"
  },
  "language_info": {
   "codemirror_mode": {
    "name": "ipython",
    "version": 3
   },
   "file_extension": ".py",
   "mimetype": "text/x-python",
   "name": "python",
   "nbconvert_exporter": "python",
   "pygments_lexer": "ipython3",
   "version": "3.12.3"
  }
 },
 "nbformat": 4,
 "nbformat_minor": 5
}
