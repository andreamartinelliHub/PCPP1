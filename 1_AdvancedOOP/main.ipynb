{
 "cells": [
  {
   "cell_type": "code",
   "execution_count": 1,
   "id": "3a1b1831",
   "metadata": {},
   "outputs": [
    {
     "name": "stdout",
     "output_type": "stream",
     "text": [
      "Quack\n",
      "10\n",
      "<class 'type'>\n",
      "<class '__main__.Duck'>\n",
      "<class 'str'>\n",
      "<class 'method'>\n"
     ]
    }
   ],
   "source": [
    "# CLASS = IDEA\n",
    "class Duck:\n",
    "    def __init__(self, height, weight, sex):\n",
    "        self.height = height # VARIABLE\n",
    "        self.weight = weight\n",
    "        self.sex = sex\n",
    "\n",
    "    def walk(self): # METHOD (callable attribute)\n",
    "        pass\n",
    "\n",
    "    def quack(self):\n",
    "        return print('Quack')\n",
    "\n",
    "# INSTANCE = REALIZATION\n",
    "duckling = Duck(height=10, weight=3.4, sex=\"male\")\n",
    "drake = Duck(height=25, weight=3.7, sex=\"male\")\n",
    "hen = Duck(height=20, weight=3.4, sex=\"female\")\n",
    "\n",
    "drake.quack()\n",
    "print(duckling.height)\n",
    "\n",
    "print(Duck.__class__)\n",
    "print(duckling.__class__)\n",
    "print(duckling.sex.__class__)\n",
    "print(duckling.quack.__class__)"
   ]
  },
  {
   "cell_type": "code",
   "execution_count": 3,
   "id": "7b9c9f1a",
   "metadata": {},
   "outputs": [
    {
     "name": "stdout",
     "output_type": "stream",
     "text": [
      "d1's instance variable is equal to: 100\n",
      "d2's instance variable is equal to: 200\n",
      "contents of d1: {'instance_var': 100, 'another_var': 'another variable in the object'}\n",
      "contents of d2: {'instance_var': 200}\n"
     ]
    }
   ],
   "source": [
    "class Demo:\n",
    "    def __init__(self, value): # creates instance variables\n",
    "        self.instance_var = value\n",
    "\n",
    "d1 = Demo(100)\n",
    "d2 = Demo(200)\n",
    "# the print instructions prove the fact that \n",
    "# instance variable values are kept independently, because the printed values differ\n",
    "print(\"d1's instance variable is equal to:\", d1.instance_var)\n",
    "print(\"d2's instance variable is equal to:\", d2.instance_var)\n",
    "\n",
    "# modifying the instance variable of any object has no impact on all the remaining objects\n",
    "d1.another_var = 'another variable in the object'\n",
    "print('contents of d1:', d1.__dict__) # lists the contents of each object\n",
    "print('contents of d2:', d2.__dict__)\n"
   ]
  },
  {
   "cell_type": "code",
   "execution_count": null,
   "id": "42100244",
   "metadata": {},
   "outputs": [
    {
     "name": "stdout",
     "output_type": "stream",
     "text": [
      "shared variable\n",
      "{'__module__': '__main__', 'class_var': 'shared variable', '__dict__': <attribute '__dict__' of 'Demo' objects>, '__weakref__': <attribute '__weakref__' of 'Demo' objects>, '__doc__': None}\n",
      "shared variable\n",
      "shared variable\n",
      "shared variable\n",
      "contents of d1: {}\n"
     ]
    }
   ],
   "source": [
    "class Demo:\n",
    "    class_var = 'shared variable'\n",
    "\n",
    "print(Demo.class_var)\n",
    "# Similarly to instance variables, \n",
    "# class variables are shown in the class's __dict__ dictionary.\n",
    "print(Demo.__dict__)\n",
    "\n",
    "d1 = Demo()\n",
    "d2 = Demo()\n",
    "\n",
    "print(Demo.class_var)\n",
    "print(d1.class_var)\n",
    "print(d2.class_var)\n",
    "# as the class variable is defined outside the object, \n",
    "# it is not listed in the object's __dict__.\n",
    "print('contents of d1:', d1.__dict__) \n"
   ]
  },
  {
   "cell_type": "code",
   "execution_count": 7,
   "id": "e21043ad",
   "metadata": {},
   "outputs": [
    {
     "name": "stdout",
     "output_type": "stream",
     "text": [
      "shared variable\n",
      "shared variable\n",
      "....................\n",
      "contents of d1: {}\n",
      "....................\n",
      "contents of d1: {'class_var': \"I'm messing with the class variable\"}\n",
      "I'm messing with the class variable\n",
      "....................\n",
      "contents of d2: {}\n",
      "contents of class variable accessed via d2: shared variable\n"
     ]
    }
   ],
   "source": [
    "class Demo:\n",
    "    class_var = 'shared variable'\n",
    "\n",
    "d1 = Demo()\n",
    "d2 = Demo()\n",
    "\n",
    "# both instances allow access to the class variable\n",
    "print(d1.class_var)\n",
    "print(d2.class_var)\n",
    "print('.' * 20)\n",
    "\n",
    "# d1 object has no instance variable\n",
    "print('contents of d1:', d1.__dict__)\n",
    "print('.' * 20)\n",
    "\n",
    "# d1 object receives an instance variable named 'class_var'\n",
    "d1.class_var = \"I'm messing with the class variable\"\n",
    "\n",
    "# d1 object owns the variable named 'class_var' which holds a different value than the class variable named in the same way\n",
    "print('contents of d1:', d1.__dict__)\n",
    "print(d1.class_var)\n",
    "print('.' * 20)\n",
    "\n",
    "# d2 object variables were not influenced\n",
    "print('contents of d2:', d2.__dict__)\n",
    "\n",
    "# d2 object variables were not influenced\n",
    "print('contents of class variable accessed via d2:', d2.class_var)\n"
   ]
  },
  {
   "cell_type": "code",
   "execution_count": null,
   "id": "e2d73ab2",
   "metadata": {},
   "outputs": [
    {
     "name": "stdout",
     "output_type": "stream",
     "text": [
      "So many ducks were born: 3\n",
      "duck quacks\n",
      "duck quacks\n",
      "duck quacks\n",
      "chicken clucks\n"
     ]
    }
   ],
   "source": [
    "class Duck:\n",
    "    # class variables: meta-informations\n",
    "    counter = 0\n",
    "    species = 'duck'\n",
    "\n",
    "    def __init__(self, height, weight, sex):\n",
    "        # instance variables\n",
    "        self.height = height\n",
    "        self.weight = weight\n",
    "        self.sex = sex\n",
    "        Duck.counter +=1\n",
    "\n",
    "    def walk(self):\n",
    "        pass\n",
    "\n",
    "    def quack(self):\n",
    "        print('quacks')\n",
    "\n",
    "class Chicken:\n",
    "    species = 'chicken'\n",
    "\n",
    "    def walk(self):\n",
    "        pass\n",
    "\n",
    "    def cluck(self):\n",
    "        print('clucks')\n",
    "\n",
    "duckling = Duck(height=10, weight=3.4, sex=\"male\")\n",
    "drake = Duck(height=25, weight=3.7, sex=\"male\")\n",
    "hen = Duck(height=20, weight=3.4, sex=\"female\")\n",
    "\n",
    "chicken = Chicken()\n",
    "\n",
    "print('So many ducks were born:', Duck.counter)\n",
    "\n",
    "for poultry in duckling, drake, hen, chicken:\n",
    "    print(poultry.species, end=' ')\n",
    "    # class variables to handle the type of the object\n",
    "    if poultry.species == 'duck':\n",
    "        poultry.quack()\n",
    "    elif poultry.species == 'chicken':\n",
    "        poultry.cluck()\n"
   ]
  },
  {
   "cell_type": "code",
   "execution_count": null,
   "id": "ae068398",
   "metadata": {},
   "outputs": [
    {
     "name": "stdout",
     "output_type": "stream",
     "text": [
      "Total number of phone devices created: 0\n",
      "Creating 2 devices\n",
      "Total number of phone devices created: 2\n",
      "Total number of mobile phones created: 1\n",
      "Calling 01632-960004 using own number 555-2368\n",
      "Fixed phone received \"FP-1\" serial number\n",
      "Mobile phone received \"MP-1\" serial number\n"
     ]
    }
   ],
   "source": [
    "class Phone:\n",
    "    counter = 0\n",
    "\n",
    "    def __init__(self, number):\n",
    "        self.number = number\n",
    "        Phone.counter += 1\n",
    "\n",
    "    def call(self, number):\n",
    "        message = 'Calling {} using own number {}'.format(number, self.number)\n",
    "        return message\n",
    "\n",
    "# sub-classes\n",
    "class FixedPhone(Phone):\n",
    "    last_SN = 0\n",
    "\n",
    "    def __init__(self, number):\n",
    "        super().__init__(number)\n",
    "        FixedPhone.last_SN += 1\n",
    "        self.SN = 'FP-{}'.format(FixedPhone.last_SN)\n",
    "\n",
    "class MobilePhone(Phone):\n",
    "    last_SN = 0\n",
    "\n",
    "    def __init__(self, number):\n",
    "        super().__init__(number)\n",
    "        MobilePhone.last_SN += 1\n",
    "        self.SN = 'MP-{}'.format(MobilePhone.last_SN)\n",
    "\n",
    "print('Total number of phone devices created:', Phone.counter)\n",
    "print('Creating 2 devices')\n",
    "fphone = FixedPhone('555-2368')\n",
    "mphone = MobilePhone('01632-960004')\n",
    "\n",
    "print('Total number of phone devices created:', Phone.counter)\n",
    "print('Total number of mobile phones created:', MobilePhone.last_SN)\n",
    "\n",
    "print(fphone.call('01632-960004'))\n",
    "print('Fixed phone received \"{}\" serial number'.format(fphone.SN))\n",
    "print('Mobile phone received \"{}\" serial number'.format(mphone.SN))\n"
   ]
  },
  {
   "cell_type": "code",
   "execution_count": 12,
   "id": "b44a8b83",
   "metadata": {},
   "outputs": [
    {
     "name": "stdout",
     "output_type": "stream",
     "text": [
      "300.4185489630014 854\n"
     ]
    }
   ],
   "source": [
    "# MODULE TEST\n",
    "import random\n",
    "\n",
    "class Apple:\n",
    "    counter = 0\n",
    "    tot_weight = 0.0\n",
    "    lower = 0.2\n",
    "    upper = 0.5\n",
    "    \n",
    "    def __init__(self):\n",
    "        Apple.counter+=1\n",
    "        self.weight = random.uniform(Apple.lower, Apple.upper)\n",
    "        Apple.tot_weight+=self.weight\n",
    "        \n",
    "for i in range(1000):\n",
    "    _ = Apple()\n",
    "    if Apple.tot_weight>300.0:\n",
    "        break\n",
    "print(Apple.tot_weight, Apple.counter)"
   ]
  }
 ],
 "metadata": {
  "kernelspec": {
   "display_name": ".venv",
   "language": "python",
   "name": "python3"
  },
  "language_info": {
   "codemirror_mode": {
    "name": "ipython",
    "version": 3
   },
   "file_extension": ".py",
   "mimetype": "text/x-python",
   "name": "python",
   "nbconvert_exporter": "python",
   "pygments_lexer": "ipython3",
   "version": "3.12.3"
  }
 },
 "nbformat": 4,
 "nbformat_minor": 5
}
