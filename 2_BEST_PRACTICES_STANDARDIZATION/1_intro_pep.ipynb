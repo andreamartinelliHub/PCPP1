{
 "cells": [
  {
   "cell_type": "markdown",
   "id": "2bf12055",
   "metadata": {},
   "source": [
    "Python Enhancement Proposals = PEP"
   ]
  },
  {
   "cell_type": "markdown",
   "id": "4e910686",
   "metadata": {},
   "source": [
    "We’ve picked four of them that deserve a closer analysis, and should be considered must-reads. These are:\n",
    "\n",
    "- PEP 1 – PEP Purpose and Guidelines, which provides information about the purpose of PEPs, their types, and introduces general guidelines;\n",
    "- PEP 8 – Style Guide for Python Code, which gives conventions and presents best practices for Python coding;\n",
    "- PEP 20 – The Zen of Python, which presents a list of principles for Python’s design;\n",
    "- PEP 257 – Docstring Conventions, which provides guidelines for conventions and semantics associated with Python docstrings.\n"
   ]
  },
  {
   "cell_type": "markdown",
   "id": "b822793c",
   "metadata": {},
   "source": [
    "PEP20 Aphorisms:\n",
    "\n",
    "Explicit is better than implicit.\n",
    "\n",
    "Simple is better than complex.\n",
    "\n",
    "Complex is better than complicated.\n",
    "\n",
    "Flat is better than nested.\n",
    "\n",
    "Sparse is better than dense.\n",
    "\n",
    "Readability counts.\n",
    "\n",
    "Special cases aren't special enough to break the rules.\n",
    "\n",
    "Although practicality beats purity.\n",
    "\n",
    "Errors should never pass silently.\n",
    "\n",
    "Unless explicitly silenced.\n",
    "\n",
    "In the face of ambiguity, refuse the temptation to guess.\n",
    "\n",
    "There should be one-- and preferably only one --obvious way to do it.\n",
    "\n",
    "Although that way may not be obvious at first unless you're Dutch.\n",
    "\n",
    "Now is better than never.\n",
    "\n",
    "Although never is often better than *right* now.\n",
    "\n",
    "If the implementation is hard to explain, it's a bad idea.\n",
    "\n",
    "If the implementation is easy to explain, it may be a good idea.\n",
    "\n",
    "Namespaces are one honking great idea -- let's do more of those!"
   ]
  },
  {
   "cell_type": "markdown",
   "id": "017c60c8",
   "metadata": {},
   "source": [
    "PEP8: document that provides coding conventions\n",
    "\n",
    "***”A foolish consistency is the hobgoblin of little minds.”***\n",
    "\n",
    "When should you ignore some specific PEP 8 guidelines (or at least consider doing so)?\n",
    "\n",
    "- If following them will mean that you break backwards compatibility.\n",
    "- If following them will have a negative effect on code readability.\n",
    "- If following them will cause inconsistency with the rest of the code. (However, this may be a good opportunity to rewrite the code and make it PEP 8 compliant.)\n",
    "- If there is no good reason for making the code PEP 8 compliant, or the code predates PEP 8"
   ]
  },
  {
   "cell_type": "markdown",
   "id": "9f60ba98",
   "metadata": {
    "vscode": {
     "languageId": "plaintext"
    }
   },
   "source": [
    "- mysamplename – lowercase\n",
    "- my_sample_name – lowercase with underscores (snake_case)\n",
    "- MYSAMPLENAME – uppercase\n",
    "- MY_SAMPLE_NAME – uppercase with underscores (SNAKE_CASE)\n",
    "- MySampleName – CamelCase (also known as capitalized words, StudlyCaps, or CapWords)\n",
    "\n",
    "    A short note: when you use acronyms, you should capitalize all the letters that make up the acronym, e.g., HTTPServerError\n",
    "- mySampleName – mixed case, which actually differs from CamelCase only by having an initial lowercase character\n",
    "- My_Sample_Name – capitalized words with underscores (considered ugly by PEP 8)\n",
    "- _my_sample_name – a name that starts with a single leading underscore indicates a weak \"internal use\", e.g., the instruction from SAMPLE import * will not import objects whose names start with an underscore.\n",
    "- my_sample_name_ -– a single trailing underscore is used by convention in order to avoid any conflicts with Python keywords, e.g., class_\n",
    "- __my_sample_name – a name that starts with a double leading underscore is used for class attributes where it invokes name mangling, e.g., inside the class MySampleClass, __room will become _MySampleClass__room\n",
    "- __my_sample_name__ – a name that starts and ends with a double underscore is used for \"magic\" objects and attributes that reside in user-controlled namespaces, e.g., __init__, __import__, or __file__. You shouldn't create such names, but only use them as documented.\n"
   ]
  },
  {
   "cell_type": "markdown",
   "id": "1f8e51f1",
   "metadata": {},
   "source": [
    "PEP 257 makes an attempt to standardize the high-level structure of docstrings."
   ]
  }
 ],
 "metadata": {
  "language_info": {
   "name": "python"
  }
 },
 "nbformat": 4,
 "nbformat_minor": 5
}
