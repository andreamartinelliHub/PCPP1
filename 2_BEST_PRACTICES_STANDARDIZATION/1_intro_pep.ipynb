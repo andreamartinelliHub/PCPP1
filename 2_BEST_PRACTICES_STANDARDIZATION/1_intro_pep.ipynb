{
 "cells": [
  {
   "cell_type": "markdown",
   "id": "2bf12055",
   "metadata": {},
   "source": [
    "Python Enhancement Proposals = PEP"
   ]
  },
  {
   "cell_type": "markdown",
   "id": "4e910686",
   "metadata": {},
   "source": [
    "We’ve picked four of them that deserve a closer analysis, and should be considered must-reads. These are:\n",
    "\n",
    "- PEP 1 – PEP Purpose and Guidelines, which provides information about the purpose of PEPs, their types, and introduces general guidelines;\n",
    "- PEP 8 – Style Guide for Python Code, which gives conventions and presents best practices for Python coding;\n",
    "- PEP 20 – The Zen of Python, which presents a list of principles for Python’s design;\n",
    "- PEP 257 – Docstring Conventions, which provides guidelines for conventions and semantics associated with Python docstrings.\n"
   ]
  },
  {
   "cell_type": "markdown",
   "id": "b822793c",
   "metadata": {},
   "source": [
    "PEP20 Aphorisms:\n",
    "\n",
    "Explicit is better than implicit.\n",
    "\n",
    "Simple is better than complex.\n",
    "\n",
    "Complex is better than complicated.\n",
    "\n",
    "Flat is better than nested.\n",
    "\n",
    "Sparse is better than dense.\n",
    "\n",
    "Readability counts.\n",
    "\n",
    "Special cases aren't special enough to break the rules.\n",
    "\n",
    "Although practicality beats purity.\n",
    "\n",
    "Errors should never pass silently.\n",
    "\n",
    "Unless explicitly silenced.\n",
    "\n",
    "In the face of ambiguity, refuse the temptation to guess.\n",
    "\n",
    "There should be one-- and preferably only one --obvious way to do it.\n",
    "\n",
    "Although that way may not be obvious at first unless you're Dutch.\n",
    "\n",
    "Now is better than never.\n",
    "\n",
    "Although never is often better than *right* now.\n",
    "\n",
    "If the implementation is hard to explain, it's a bad idea.\n",
    "\n",
    "If the implementation is easy to explain, it may be a good idea.\n",
    "\n",
    "Namespaces are one honking great idea -- let's do more of those!"
   ]
  }
 ],
 "metadata": {
  "language_info": {
   "name": "python"
  }
 },
 "nbformat": 4,
 "nbformat_minor": 5
}
