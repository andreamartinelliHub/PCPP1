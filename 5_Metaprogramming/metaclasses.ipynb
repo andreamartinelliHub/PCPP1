{
 "cells": [
  {
   "cell_type": "markdown",
   "id": "aee4069c",
   "metadata": {},
   "source": [
    "In Python, a metaclass is a class whose instances are classes. Just as an ordinary class defines the behavior of certain objects, a metaclass allows for the customization of class instantiation.\n",
    "\n",
    "Metaclasses usually enter the game when we program advanced modules or frameworks, where a lot of precise automation must be provided. \n",
    "\n",
    "The typical use cases for metaclasses:\n",
    "- logging;\n",
    "- registering classes at creation time;\n",
    "- interface checking;\n",
    "- automatically adding new methods;\n",
    "- automatically adding new variables.\n",
    "\n",
    "The functionality of the metaclass partly coincides with that of class decorators, but metaclasses act in a different way than decorators:\n",
    "\n",
    "- decorators bind the names of decorated functions or classes to new callable objects. Class decorators are applied when classes are instantiated;\n",
    "- metaclasses redirect class instantiations to dedicated logic, contained in metaclasses. Metaclasses are applied when class definitions are read to create classes, well before classes are instantiated.\n"
   ]
  },
  {
   "cell_type": "code",
   "execution_count": 3,
   "id": "c6cccc55",
   "metadata": {},
   "outputs": [
    {
     "name": "stdout",
     "output_type": "stream",
     "text": [
      "<class 'int'>\n",
      "<class 'list'>\n",
      "<class '__main__.Dog'>\n",
      "<class 'type'>\n",
      "<class 'type'>\n",
      "<class 'type'>\n",
      "<class 'type'>\n"
     ]
    }
   ],
   "source": [
    "# In Python's approach, everything is an object, \n",
    "# and every object has some type associated with it. \n",
    "# To get the type of any object, make use of the type() function.\n",
    "class Dog:\n",
    "    pass\n",
    "\n",
    "\n",
    "age = 10\n",
    "codes = [33, 92]\n",
    "dog = Dog()\n",
    "\n",
    "print(type(age))\n",
    "print(type(codes))\n",
    "print(type(dog))\n",
    "print(type(Dog))\n",
    "\n",
    "for t in (int, list, type):\n",
    "    print(type(t))"
   ]
  },
  {
   "cell_type": "code",
   "execution_count": 6,
   "id": "4335d1d7",
   "metadata": {},
   "outputs": [
    {
     "name": "stdout",
     "output_type": "stream",
     "text": [
      "\"dog\" is an object of class named: Dog\n",
      "\n",
      "class \"Dog\" is an instance of: <class 'type'>\n",
      "instance \"dog\" is an instance of: <class '__main__.Dog'>\n",
      "\n",
      "class \"Dog\" is   (<class 'object'>,)\n",
      "\n",
      "class \"Dog\" attributes: {'__module__': '__main__', '__dict__': <attribute '__dict__' of 'Dog' objects>, '__weakref__': <attribute '__weakref__' of 'Dog' objects>, '__doc__': None}\n",
      "object \"dog\" attributes: {}\n"
     ]
    }
   ],
   "source": [
    "# We should get familiar with some special attributes:\n",
    "\n",
    "# __name__ – inherent for classes; \n",
    "#               contains the name of the class;\n",
    "# __class__ – inherent for both classes and instances; \n",
    "#               contains information about the class to which a class instance belongs;\n",
    "# __bases__ – inherent for classes; \n",
    "#               it’s a tuple and contains information about the base classes of a class;\n",
    "#  __dict__ – inherent for both classes and instances; \n",
    "#               contains a dictionary (or other type mapping object) of the object's attributes.\n",
    "class Dog:\n",
    "    pass\n",
    "\n",
    "dog = Dog()\n",
    "print('\"dog\" is an object of class named:', Dog.__name__)\n",
    "print()\n",
    "print('class \"Dog\" is an instance of:', Dog.__class__)\n",
    "print('instance \"dog\" is an instance of:', dog.__class__)\n",
    "print()\n",
    "print('class \"Dog\" is  ', Dog.__bases__)\n",
    "print()\n",
    "print('class \"Dog\" attributes:', Dog.__dict__)\n",
    "print('object \"dog\" attributes:', dog.__dict__)\n"
   ]
  },
  {
   "cell_type": "code",
   "execution_count": 7,
   "metadata": {},
   "outputs": [
    {
     "name": "stdout",
     "output_type": "stream",
     "text": [
      "1 is <class 'int'> <class 'int'>\n",
      "a is <class 'str'> <class 'str'>\n",
      "True is <class 'bool'> <class 'bool'>\n"
     ]
    }
   ],
   "source": [
    "# The same information stored in __class__could be retrieved by calling a type() function \n",
    "# -> with one argument!! :\n",
    "for element in (1, 'a', True):\n",
    "    print(element, 'is', element.__class__, type(element))"
   ]
  },
  {
   "cell_type": "code",
   "execution_count": 8,
   "metadata": {},
   "outputs": [
    {
     "name": "stdout",
     "output_type": "stream",
     "text": [
      "The class name is: Dog\n",
      "The class is an instance of: <class 'type'>\n",
      "The class is based on: (<class 'object'>,)\n",
      "The class attributes are: {'__module__': '__main__', '__dict__': <attribute '__dict__' of 'Dog' objects>, '__weakref__': <attribute '__weakref__' of 'Dog' objects>, '__doc__': None}\n"
     ]
    }
   ],
   "source": [
    "# When the type() function is called with three arguments, \n",
    "# then it dynamically creates a new class.\n",
    "Dog = type('Dog', (), {}) # name, bases, dict\n",
    "\n",
    "print('The class name is:', Dog.__name__)\n",
    "print('The class is an instance of:', Dog.__class__)\n",
    "print('The class is based on:', Dog.__bases__)\n",
    "print('The class attributes are:', Dog.__dict__)"
   ]
  },
  {
   "cell_type": "code",
   "execution_count": 9,
   "id": "4d90517a",
   "metadata": {},
   "outputs": [
    {
     "name": "stdout",
     "output_type": "stream",
     "text": [
      "The class name is: Dog\n",
      "The class is an instance of: <class 'type'>\n",
      "The class is based on: (<class '__main__.Animal'>,)\n",
      "The class attributes are: {'age': 0, 'bark': <function bark at 0x736631ed77e0>, '__module__': '__main__', '__doc__': None}\n",
      "It is feeding time!\n",
      "Woof, woof\n"
     ]
    }
   ],
   "source": [
    "# The more complex example that dynamically creates a fully functional class is presented in the right pane.\n",
    "def bark(self):\n",
    "    print('Woof, woof')\n",
    "\n",
    "class Animal:\n",
    "    def feed(self):\n",
    "        print('It is feeding time!')\n",
    "\n",
    "Dog = type('Dog', (Animal, ), {'age':0, 'bark':bark})\n",
    "\n",
    "print('The class name is:', Dog.__name__)\n",
    "print('The class is an instance of:', Dog.__class__)\n",
    "print('The class is based on:', Dog.__bases__)\n",
    "print('The class attributes are:', Dog.__dict__)\n",
    "\n",
    "doggy = Dog()\n",
    "doggy.feed()\n",
    "doggy.bark()"
   ]
  },
  {
   "cell_type": "markdown",
   "id": "f5e5b7a8",
   "metadata": {},
   "source": [
    "Now that we know what’s happening under Python's hood, it’s time to implement our own metaclass.\n",
    "\n",
    "It’s important to remember that metaclasses are classes that are instantiated to get classes.\n",
    "\n",
    "The first step is to define a metaclass that derives from the type type and arms the class with a 'custom_attribute'."
   ]
  },
  {
   "cell_type": "code",
   "execution_count": 10,
   "id": "adb00e04",
   "metadata": {},
   "outputs": [
    {
     "name": "stdout",
     "output_type": "stream",
     "text": [
      "{'__module__': '__main__', '__dict__': <attribute '__dict__' of 'My_Object' objects>, '__weakref__': <attribute '__weakref__' of 'My_Object' objects>, '__doc__': None, 'custom_attribute': 'Added by My_Meta'}\n"
     ]
    }
   ],
   "source": [
    "class My_Meta(type): # This makes our class a metaclass;\n",
    "    def __new__(mcs, name, bases, dictionary):\n",
    "        obj = super().__new__(mcs, name, bases, dictionary) # 'mcs' to refer to the class – it’s just a convention\n",
    "        obj.custom_attribute = 'Added by My_Meta' # additionally\n",
    "        return obj # class returned\n",
    "\n",
    "class My_Object(metaclass=My_Meta): # way to tell Python to use My_Meta as a metaclass, not as an ordinary superclass\n",
    "    pass\n",
    "\n",
    "print(My_Object.__dict__)"
   ]
  },
  {
   "cell_type": "code",
   "execution_count": 11,
   "id": "1e5cc0a2",
   "metadata": {},
   "outputs": [
    {
     "name": "stdout",
     "output_type": "stream",
     "text": [
      "Just a greeting function, but it could be something more serious like a check sum\n",
      "We are ready to greet you!\n"
     ]
    }
   ],
   "source": [
    "def greetings(self):\n",
    "    print('Just a greeting function, but it could be something more serious like a check sum')\n",
    "\n",
    "class My_Meta(type):\n",
    "    def __new__(mcs, name, bases, dictionary):\n",
    "        if 'greetings' not in dictionary:\n",
    "            dictionary['greetings'] = greetings\n",
    "        obj = super().__new__(mcs, name, bases, dictionary)\n",
    "        return obj\n",
    "\n",
    "class My_Class1(metaclass=My_Meta):\n",
    "    pass \n",
    "# no greetings function, so when the class is constructed,\n",
    "# it is equipped with a default function by the metaclass\n",
    "\n",
    "class My_Class2(metaclass=My_Meta):\n",
    "    def greetings(self): # function present from the very beginning\n",
    "        print('We are ready to greet you!')\n",
    "\n",
    "myobj1 = My_Class1()\n",
    "myobj1.greetings()\n",
    "myobj2 = My_Class2()\n",
    "myobj2.greetings()"
   ]
  },
  {
   "cell_type": "markdown",
   "id": "714937ad",
   "metadata": {},
   "source": [
    "**Scenario**\n",
    "\n",
    "\n",
    "- Imagine you’ve been given a task to clean up the code of a system developed in Python – the code should be treated as legacy code;\n",
    "- the system was created by a group of volunteers who worked with no clear “clean coding” rules;\n",
    "- the system suffers from a problem: we don’t know in which order the classes are created, so it causes multiple dependency problems;\n",
    "- your task is to prepare a metaclass that is responsible for:\n",
    "\n",
    "> equipping all newly instantiated classes with time stamps, persisted in a class attribute named instantiation_time;\n",
    "        \n",
    "> equipping all newly instantiated classes with the get_instantiation_time() method. The method should return the value of the class attribute instantiation_time.\n",
    "\n",
    "* The metaclass should have its own class variable (a list) that contains a list of the names of the classes instantiated by the metaclass (tip: append the class name in the __new__ method).\n",
    "\n",
    "- Your metaclass should be used to create a few distinct legacy classes;\n",
    "- create objects based on the classes;\n",
    "- list the class names that are instantiated by your metaclass.\n"
   ]
  },
  {
   "cell_type": "code",
   "execution_count": null,
   "id": "e9b6032b",
   "metadata": {},
   "outputs": [],
   "source": []
  }
 ],
 "metadata": {
  "kernelspec": {
   "display_name": "PCPP1",
   "language": "python",
   "name": "python3"
  },
  "language_info": {
   "codemirror_mode": {
    "name": "ipython",
    "version": 3
   },
   "file_extension": ".py",
   "mimetype": "text/x-python",
   "name": "python",
   "nbconvert_exporter": "python",
   "pygments_lexer": "ipython3",
   "version": "3.12.3"
  }
 },
 "nbformat": 4,
 "nbformat_minor": 5
}
